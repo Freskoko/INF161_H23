{
 "cells": [
  {
   "cell_type": "markdown",
   "metadata": {},
   "source": [
    "# Data\n",
    "\n",
    "I denne øvelsen vil vi se hvordan du kan manipulere datasett med `numpy` og `pandas`. I data science bruker vi ofte store datasett og det er derfor avgjørende å manipulere datasett på en god måte. \n",
    "\n",
    "I de følgende oppgavene må du alltid erstatte `___` med kode som gjør hva oppgaven spør om. "
   ]
  },
  {
   "cell_type": "markdown",
   "metadata": {},
   "source": [
    "## Grunnlegende om numpy \n",
    "\n",
    "Målet med denne oppgaven er å lære de grunnleggende egenskapene til numpy arrayer og hvordan du effektivt bruker dem i arbeidet ditt. "
   ]
  },
  {
   "cell_type": "markdown",
   "metadata": {},
   "source": [
    "Vi begynner å laste inn `numpy` pakken som `np`. "
   ]
  },
  {
   "cell_type": "code",
   "execution_count": 11,
   "metadata": {},
   "outputs": [],
   "source": [
    "import numpy as np"
   ]
  },
  {
   "cell_type": "markdown",
   "metadata": {},
   "source": [
    "### Lage numpy array\n",
    "\n",
    "Det kan være nyttig å vite hvordan du lager en numpy array fra bunnen av for å teste koden din. For eksempel, når du gjør matematikk med store flerdimensjonale arrays, er det fint å sjekke om matematikken fungerer som forventet på små test arrays før du bruker koden på de større arrayene. numpy har mange alternativer for å lage mindre syntetiske matriser."
   ]
  },
  {
   "cell_type": "markdown",
   "metadata": {},
   "source": [
    "Lag og skriv ut en numpy array som har to rader og fire kolonner fylt med nuller. Tips: Du kan bruke [numpy.zeros](https://numpy.org/doc/stable/reference/generated/numpy.zeros.html) for å gjøre det på en linje. "
   ]
  },
  {
   "cell_type": "code",
   "execution_count": 7,
   "metadata": {},
   "outputs": [
    {
     "name": "stdout",
     "output_type": "stream",
     "text": [
      "[[0. 0.]\n",
      " [0. 0.]\n",
      " [0. 0.]\n",
      " [0. 0.]]\n"
     ]
    }
   ],
   "source": [
    "# numpy array med nuller\n",
    "zeros_array = np.zeros( (4,2) )\n",
    "print(zeros_array)"
   ]
  },
  {
   "cell_type": "markdown",
   "metadata": {},
   "source": [
    "Lag og skriv ut en numpy array som har tre rader og seks kolonner fylt med uniformt fordelte tilfeldige tall mellom 0 og 1. Tips: Du kan bruke [numpy.random.uniform](https://numpy.org/doc/stable/reference/random/generated/numpy.random.uniform.html) for å gjøre det på en linje. "
   ]
  },
  {
   "cell_type": "code",
   "execution_count": 13,
   "metadata": {},
   "outputs": [
    {
     "name": "stdout",
     "output_type": "stream",
     "text": [
      "[[0.46957178 0.76625992 0.94640906]\n",
      " [0.8833962  0.83379887 0.5525824 ]\n",
      " [0.46091988 0.38573    0.49582712]\n",
      " [0.0273408  0.00262067 0.2978878 ]\n",
      " [0.79825446 0.69098736 0.84335866]\n",
      " [0.15930774 0.21997818 0.60122651]]\n"
     ]
    }
   ],
   "source": [
    "# numpy array med tilfeldige tall\n",
    "random_array = np.random.uniform(0,1, (6,3) )\n",
    "print(random_array)"
   ]
  },
  {
   "cell_type": "markdown",
   "metadata": {},
   "source": [
    "Lag et 1-dimensjonal numpy array som inneholder 8 jevnt fordelte tall fra 0.3 til 1.7. Tips: Du kan bruke enten [`numpy.arange`](https://numpy.org/doc/stable/reference/generated/numpy.arange.html) eller [`numpy.linspace`](https://numpy.org/doc/stable/reference/generated/numpy.linspace.html) for denne oppgaven. "
   ]
  },
  {
   "cell_type": "code",
   "execution_count": 21,
   "metadata": {},
   "outputs": [
    {
     "name": "stdout",
     "output_type": "stream",
     "text": [
      "[0.3 0.5 0.7 0.9 1.1 1.3 1.5 1.7]\n"
     ]
    }
   ],
   "source": [
    "# numpy array med tall mellom 0.3 og 1.7\n",
    "range_array = np.linspace( 0.3,1.7, 8)\n",
    "print(range_array)"
   ]
  },
  {
   "cell_type": "markdown",
   "metadata": {},
   "source": [
    "### Dimensjon av numpy array\n",
    "\n",
    "Numpy arrayer har en rekke egenskaper, som størrelsen og antall dimensjoner. Vi må kunne finne de egenskapene. Noen ganger trenger vi også å endre formen på numpy arrayer. "
   ]
  },
  {
   "cell_type": "markdown",
   "metadata": {},
   "source": [
    "Skriv ut formen av `range_array` som du har laget. Tips: Du kan bruke [`shape`](https://numpy.org/doc/stable/reference/generated/numpy.ndarray.shape.html) for å lese formen av en numpy array. "
   ]
  },
  {
   "cell_type": "code",
   "execution_count": 22,
   "metadata": {},
   "outputs": [
    {
     "name": "stdout",
     "output_type": "stream",
     "text": [
      "(8,)\n"
     ]
    }
   ],
   "source": [
    "# formen av range_array\n",
    "array_shape = np.shape(range_array)\n",
    "print(array_shape)"
   ]
  },
  {
   "cell_type": "markdown",
   "metadata": {},
   "source": [
    "Endre dimensjonen til `range_array` sånn at du får et array med 2 kolonner. Målet er å få en array som har tall [0.3, 0.5, 0.7, 0.9] i første kolonnen og tall [1.1, 1.3, 1.5, 1.7] i andre kolonnen. Tips: Du kan løse oppgaven ved å kun bruke [`numpy.reshape`](https://numpy.org/doc/stable/reference/generated/numpy.reshape.html). Alternativt kan du kombinere [`numpy.reshape`](https://numpy.org/doc/stable/reference/generated/numpy.reshape.html) med [`numpy.transpose`](https://numpy.org/doc/stable/reference/generated/numpy.transpose.html) eller med [`numpy.swapaxes`](https://numpy.org/doc/stable/reference/generated/numpy.swapaxes.html) for denne oppgaven. \n",
    "\n",
    "Skriv ut den nye numpy arrayen og dimensjonen av den nye numpy arrayen. "
   ]
  },
  {
   "cell_type": "code",
   "execution_count": 43,
   "metadata": {},
   "outputs": [
    {
     "name": "stdout",
     "output_type": "stream",
     "text": [
      "[[0.3 0.5 0.7 0.9]\n",
      " [1.1 1.3 1.5 1.7]]\n",
      "(2, 4)\n"
     ]
    }
   ],
   "source": [
    "# endre formen\n",
    "reshaped_range_array = np.reshape(range_array,(2,4))\n",
    "print(reshaped_range_array)\n",
    "# formen av den nye arrayen\n",
    "reshaped_array_shape = np.shape(reshaped_range_array)\n",
    "print(reshaped_array_shape)"
   ]
  },
  {
   "cell_type": "markdown",
   "metadata": {},
   "source": [
    "Bruk [`numpy.flatten`](https://numpy.org/doc/stable/reference/generated/numpy.ndarray.flatten.html) for å lage en 1-dimensjonal numpy array ut av `reshaped_range_array`. Skriv den ut. Er det des samme som `range_array` du begynte med?"
   ]
  },
  {
   "cell_type": "code",
   "execution_count": 29,
   "metadata": {},
   "outputs": [
    {
     "name": "stdout",
     "output_type": "stream",
     "text": [
      "[0.3 0.5 0.7 0.9 1.1 1.3 1.5 1.7]\n"
     ]
    }
   ],
   "source": [
    "# flatten\n",
    "flattened_range_array = np.reshape(reshaped_range_array,(8))\n",
    "print(flattened_range_array)"
   ]
  },
  {
   "cell_type": "markdown",
   "metadata": {},
   "source": [
    "### Kombinere flere array\n",
    "\n",
    "Når vi har data fra forskjellige kilder er det ofte viktig å kunne kombinere de. Her lærer du hvordan å gjøre det med `numpy`. "
   ]
  },
  {
   "cell_type": "markdown",
   "metadata": {},
   "source": [
    "Først lager jeg to matrisser som eksempler. "
   ]
  },
  {
   "cell_type": "code",
   "execution_count": 30,
   "metadata": {},
   "outputs": [
    {
     "name": "stdout",
     "output_type": "stream",
     "text": [
      "[[1. 1. 1. 1.]\n",
      " [1. 1. 1. 1.]\n",
      " [1. 1. 1. 1.]]\n",
      "\n",
      "[[ 2  3  4  5]\n",
      " [ 6  7  8  9]\n",
      " [10 11 12 13]]\n"
     ]
    }
   ],
   "source": [
    "# eksempel matriser\n",
    "mat1 = np.ones(shape=(3, 4))\n",
    "mat2 = np.arange(2, 14).reshape(3, 4)\n",
    "print(mat1)\n",
    "print()\n",
    "print(mat2)"
   ]
  },
  {
   "cell_type": "markdown",
   "metadata": {},
   "source": [
    "Det er mange måter å kombinere de matrissene. Her prøver vi det ut på tre forskjellige måter. Kombiner `mat1` med `mat2`, slik at du får\n",
    "- en ny matrisse med 6 rader og 4 kolonner (Tips: Bruk [`numpy.vstack`](https://numpy.org/doc/stable/reference/generated/numpy.vstack.html)), \n",
    "- en ny matrisse med 3 rader og 8 kolonner (Tips: Bruk [`numpy.hstack`](https://numpy.org/doc/stable/reference/generated/numpy.hstack.html)), \n",
    "- en ny 3-dimensjonal numpy array med form (2, 3, 4) (Tips: Bruk [`numpy.stack`](https://numpy.org/doc/stable/reference/generated/numpy.stack.html)). \n",
    "\n",
    "Det er også et valg hvilken av mat1 og mat2 skal komme først i kombinasjonen. Her tar vi alltid mat1 før mat2. "
   ]
  },
  {
   "cell_type": "code",
   "execution_count": 32,
   "metadata": {},
   "outputs": [
    {
     "name": "stdout",
     "output_type": "stream",
     "text": [
      "[[ 1.  1.  1.  1.]\n",
      " [ 1.  1.  1.  1.]\n",
      " [ 1.  1.  1.  1.]\n",
      " [ 2.  3.  4.  5.]\n",
      " [ 6.  7.  8.  9.]\n",
      " [10. 11. 12. 13.]]\n",
      "(6, 4)\n"
     ]
    }
   ],
   "source": [
    "# kombinere slik at det blir 6 rader og 4 kolonner\n",
    "combined_6x4 = np.vstack( (mat1,mat2) )\n",
    "print(combined_6x4)\n",
    "print(combined_6x4.shape)"
   ]
  },
  {
   "cell_type": "code",
   "execution_count": 33,
   "metadata": {},
   "outputs": [
    {
     "name": "stdout",
     "output_type": "stream",
     "text": [
      "[[ 1.  1.  1.  1.  2.  3.  4.  5.]\n",
      " [ 1.  1.  1.  1.  6.  7.  8.  9.]\n",
      " [ 1.  1.  1.  1. 10. 11. 12. 13.]]\n",
      "(3, 8)\n"
     ]
    }
   ],
   "source": [
    "# kombinere slik at det blir 3 rader og 8 kolonner\n",
    "combined_3x8 = np.hstack( (mat1,mat2) )\n",
    "print(combined_3x8)\n",
    "print(combined_3x8.shape)"
   ]
  },
  {
   "cell_type": "code",
   "execution_count": 34,
   "metadata": {},
   "outputs": [
    {
     "name": "stdout",
     "output_type": "stream",
     "text": [
      "[[[ 1.  1.  1.  1.]\n",
      "  [ 1.  1.  1.  1.]\n",
      "  [ 1.  1.  1.  1.]]\n",
      "\n",
      " [[ 2.  3.  4.  5.]\n",
      "  [ 6.  7.  8.  9.]\n",
      "  [10. 11. 12. 13.]]]\n",
      "(2, 3, 4)\n"
     ]
    }
   ],
   "source": [
    "# kombinere slik at det blir en array med shape (2, 3, 4)\n",
    "combined_2x3x4 = np.stack( (mat1,mat2) )\n",
    "print(combined_2x3x4)\n",
    "print(combined_2x3x4.shape)"
   ]
  },
  {
   "cell_type": "markdown",
   "metadata": {},
   "source": [
    "### Undermatriser\n",
    "\n",
    "Når vi har store numpy arrayer, så vil vi ofte kun se på en liten del om gangen. For å gjøre det må vi kunne ta ut undermatrisser. For å velge ut rader og kolonner bruker vi indeksering. Se [`numpy` dokumentasjonen](https://numpy.org/doc/stable/user/basics.indexing.html#basics-indexing) for en god introduksjon til indeksering. \n",
    "\n",
    "Skriv ut følgende undermatriser av `mat2`: \n",
    "  - A: De første to kolonnene\n",
    "  - B: De første to radene og de to første kolonnene. \n",
    "  - C: De siste to radene og kolonnene 0 og 2. \n",
    "  - D: Radene 1 og 2 og kolonnene 0 og 3"
   ]
  },
  {
   "cell_type": "code",
   "execution_count": 57,
   "metadata": {},
   "outputs": [
    {
     "name": "stdout",
     "output_type": "stream",
     "text": [
      "[[ 2  3]\n",
      " [ 6  7]\n",
      " [10 11]]\n"
     ]
    }
   ],
   "source": [
    "# De første to kolonnene\n",
    "matA = mat2[0:,:2]\n",
    "print(matA)"
   ]
  },
  {
   "cell_type": "code",
   "execution_count": 68,
   "metadata": {},
   "outputs": [
    {
     "name": "stdout",
     "output_type": "stream",
     "text": [
      "[[2 3]\n",
      " [6 7]]\n"
     ]
    }
   ],
   "source": [
    "# De første to radene og de to første kolonnene. \n",
    "matB = mat2[:2,:2]\n",
    "print(matB)"
   ]
  },
  {
   "cell_type": "code",
   "execution_count": 107,
   "metadata": {},
   "outputs": [
    {
     "name": "stdout",
     "output_type": "stream",
     "text": [
      "[[ 6  8]\n",
      " [10 12]]\n"
     ]
    }
   ],
   "source": [
    "# De siste to radene og kolonnene 0 og 2. \n",
    "matC = mat2[-2:, :][:, [0, 2]]\n",
    "print(matC)"
   ]
  },
  {
   "cell_type": "code",
   "execution_count": 108,
   "metadata": {},
   "outputs": [
    {
     "name": "stdout",
     "output_type": "stream",
     "text": [
      "[[ 6  9]\n",
      " [10 13]]\n"
     ]
    }
   ],
   "source": [
    "# Radene 1 og 2 og kolonnene 0 og 3\n",
    "matD = mat2[1:,:][:, [0, 3]]\n",
    "print(matD)"
   ]
  },
  {
   "cell_type": "markdown",
   "metadata": {},
   "source": [
    "### Endre data\n",
    "\n",
    "Når vi har gitt data, så vil vi noen ganger endre på det. For eksempel kan det være at vi har verdier i data som er fysisk umulig, så vi vil sette de til den største mulige verdien."
   ]
  },
  {
   "cell_type": "markdown",
   "metadata": {},
   "source": [
    "Endre `mat2` slik at alle tall mindre enn 5 blir satt til 5 og tall større enn 10 blir satt til 10. Tips: Du kan bruke [`numpy.clip`](https://numpy.org/doc/stable/reference/generated/numpy.clip.html)."
   ]
  },
  {
   "cell_type": "code",
   "execution_count": 109,
   "metadata": {},
   "outputs": [
    {
     "name": "stdout",
     "output_type": "stream",
     "text": [
      "[[ 5  5  5  5]\n",
      " [ 6  7  8  9]\n",
      " [10 10 10 10]]\n"
     ]
    }
   ],
   "source": [
    "# mat2 med verdier mellom 5 og 10\n",
    "clipped_mat2 = np.clip(mat2,5,10)\n",
    "print(clipped_mat2)"
   ]
  },
  {
   "cell_type": "markdown",
   "metadata": {},
   "source": [
    "I `mat2`, bytt ut alle oddetallene med verdien 1. "
   ]
  },
  {
   "cell_type": "code",
   "execution_count": 114,
   "metadata": {},
   "outputs": [
    {
     "name": "stdout",
     "output_type": "stream",
     "text": [
      "[[ 2  1  4  1]\n",
      " [ 6  1  8  1]\n",
      " [10  1 12  1]]\n"
     ]
    }
   ],
   "source": [
    "# bytte ut alle oddetallene med verdien 1\n",
    "odd_mat2 = mat2.copy() # kopier mat2 til en ny numpy array odd_mat2\n",
    "oddetall = np.where(mat2%2)\n",
    "odd_mat2[oddetall] = 1\n",
    "print(odd_mat2)"
   ]
  },
  {
   "cell_type": "markdown",
   "metadata": {},
   "source": [
    "Merk at alle tall i `mat2` er lagret som integer. Gjør de om til `float`. Tips: Bruk [numpy.astype](https://numpy.org/doc/stable/reference/generated/numpy.ndarray.astype.html). "
   ]
  },
  {
   "cell_type": "code",
   "execution_count": 112,
   "metadata": {},
   "outputs": [
    {
     "name": "stdout",
     "output_type": "stream",
     "text": [
      "[[ 2.  3.  4.  5.]\n",
      " [ 6.  7.  8.  9.]\n",
      " [10. 11. 12. 13.]]\n",
      "int64\n",
      "float64\n"
     ]
    }
   ],
   "source": [
    "# gjør om til float\n",
    "mat2_float = mat2.astype(float)\n",
    "print(mat2_float)\n",
    "print(mat2.dtype)\n",
    "print(mat2_float.dtype)"
   ]
  },
  {
   "cell_type": "markdown",
   "metadata": {},
   "source": [
    "Når vi skriver det ut så ser vi at float skrives med `2.` mens int skrives `2` uten punktum. "
   ]
  },
  {
   "cell_type": "markdown",
   "metadata": {},
   "source": [
    "### Matematikk med numpy "
   ]
  },
  {
   "cell_type": "markdown",
   "metadata": {},
   "source": [
    "Multipliser alle elementene i `mat2` med `2`. Tips: Ikke bruk løkker, du kan bruke `*` med numpy arrayer. "
   ]
  },
  {
   "cell_type": "code",
   "execution_count": 115,
   "metadata": {},
   "outputs": [
    {
     "name": "stdout",
     "output_type": "stream",
     "text": [
      "[[ 4  6  8 10]\n",
      " [12 14 16 18]\n",
      " [20 22 24 26]]\n"
     ]
    }
   ],
   "source": [
    "# 2 ganger mat2\n",
    "mat_2x2 = mat2*2\n",
    "print(mat_2x2)"
   ]
  },
  {
   "cell_type": "markdown",
   "metadata": {},
   "source": [
    "Regn ut summen av `mat1` og `mat2`. Tips: du kan bruke vanlig `+`. "
   ]
  },
  {
   "cell_type": "code",
   "execution_count": 116,
   "metadata": {},
   "outputs": [
    {
     "name": "stdout",
     "output_type": "stream",
     "text": [
      "[[ 3.  4.  5.  6.]\n",
      " [ 7.  8.  9. 10.]\n",
      " [11. 12. 13. 14.]]\n"
     ]
    }
   ],
   "source": [
    "# summen\n",
    "mat_sum = mat1+mat2\n",
    "print(mat_sum)"
   ]
  },
  {
   "cell_type": "markdown",
   "metadata": {},
   "source": [
    "Regn ut logaritmen av alle elementene i `mat2`. Tips: Bruk [`numpy.log`](https://numpy.org/doc/stable/reference/generated/numpy.log.html)."
   ]
  },
  {
   "cell_type": "code",
   "execution_count": 118,
   "metadata": {},
   "outputs": [
    {
     "name": "stdout",
     "output_type": "stream",
     "text": [
      "[[0.69314718 1.09861229 1.38629436 1.60943791]\n",
      " [1.79175947 1.94591015 2.07944154 2.19722458]\n",
      " [2.30258509 2.39789527 2.48490665 2.56494936]]\n"
     ]
    }
   ],
   "source": [
    "# logaritmen\n",
    "log_mat = np.log(mat2)\n",
    "print(log_mat)"
   ]
  },
  {
   "cell_type": "markdown",
   "metadata": {},
   "source": [
    "Regn ut maksimalverdien i `mat2`. Tips: Bruk [`numpy.max`](https://numpy.org/doc/stable/reference/generated/numpy.ndarray.max.html)."
   ]
  },
  {
   "cell_type": "code",
   "execution_count": 120,
   "metadata": {},
   "outputs": [
    {
     "name": "stdout",
     "output_type": "stream",
     "text": [
      "13\n"
     ]
    }
   ],
   "source": [
    "# maximum\n",
    "mat_max = np.max(mat2)\n",
    "print(mat_max)"
   ]
  },
  {
   "cell_type": "markdown",
   "metadata": {},
   "source": [
    "For hver kolonne i `mat2`, regn ut summen. Tips: Bruk [`numpy.sum`](https://numpy.org/doc/stable/reference/generated/numpy.ndarray.sum.html) med `axis`-argumentet."
   ]
  },
  {
   "cell_type": "code",
   "execution_count": 127,
   "metadata": {},
   "outputs": [
    {
     "name": "stdout",
     "output_type": "stream",
     "text": [
      "[18 21 24 27]\n"
     ]
    }
   ],
   "source": [
    "# summe per kolonne\n",
    "mat_sums = np.sum(mat2,axis=0)\n",
    "print(mat_sums)"
   ]
  },
  {
   "cell_type": "markdown",
   "metadata": {},
   "source": [
    "### Kombiner det du har lært\n",
    "\n",
    "Så lenge fikk du beskjed på hvert steg hva du skal gjøre og hva slags funksjon som du kan bruke. Nå skal vi prøve å kombinere de forskjellige ting du har lært. \n",
    "\n",
    "1. Lag en numpy-array `mat` som består av tre kolonner og 100 rader. Den første kolonnen skal inneholde jevnt fordelte tall fra 0 til 2. Den andre kolonnen skal inneholde uniformt fordelte tilfeldige tall mellom 0 og 5. Den tredje kolonnen skal inneholde et 2-tall hvis den andre kolonnen er større enn 4 og et 0-tall ellers. \n",
    "2. Skriv ut de første 10 radene av `mat`. \n",
    "3. Finn ut hvor mange av radene har en verdi i andre kolonnen som er større enn 4. \n",
    "4. Regn ut maximalverdien av den andre kolonnen. \n",
    "5. Regn ut summen av alle den andre kolonnen for alle rad som har den andre kolonnen større enn 4. \n",
    "6. Endre alle datapunkter som var større enn 4 til 4. Hvordan har resultatene av spørsmål 4 og 5 forandret seg? "
   ]
  },
  {
   "cell_type": "code",
   "execution_count": 5,
   "metadata": {},
   "outputs": [
    {
     "name": "stdout",
     "output_type": "stream",
     "text": [
      "21\n",
      "4.952742899116761\n",
      "163.74660200835345\n",
      "[[0.         4.         2.        ]\n",
      " [0.02020202 4.         2.        ]\n",
      " [0.04040404 1.70880357 0.        ]\n",
      " [0.06060606 3.35640145 0.        ]\n",
      " [0.08080808 2.58687548 0.        ]\n",
      " [0.1010101  1.50798665 0.        ]\n",
      " [0.12121212 3.21617004 0.        ]\n",
      " [0.14141414 2.82344452 0.        ]\n",
      " [0.16161616 2.79431713 0.        ]\n",
      " [0.18181818 3.40089573 0.        ]\n",
      " [0.2020202  1.68969525 0.        ]\n",
      " [0.22222222 0.02825017 0.        ]\n",
      " [0.24242424 4.         2.        ]\n",
      " [0.26262626 2.86352863 0.        ]\n",
      " [0.28282828 0.66254068 0.        ]\n",
      " [0.3030303  2.57646901 0.        ]\n",
      " [0.32323232 0.42387763 0.        ]\n",
      " [0.34343434 1.85635314 0.        ]\n",
      " [0.36363636 4.         2.        ]\n",
      " [0.38383838 2.14972201 0.        ]\n",
      " [0.4040404  1.44248416 0.        ]\n",
      " [0.42424242 1.31466164 0.        ]\n",
      " [0.44444444 2.47675501 0.        ]\n",
      " [0.46464646 1.67714888 0.        ]\n",
      " [0.48484848 0.06693501 0.        ]\n",
      " [0.50505051 3.48415983 0.        ]\n",
      " [0.52525253 0.98351431 0.        ]\n",
      " [0.54545455 4.         2.        ]\n",
      " [0.56565657 1.11615135 0.        ]\n",
      " [0.58585859 0.34465946 0.        ]\n",
      " [0.60606061 1.76290498 0.        ]\n",
      " [0.62626263 1.60201698 0.        ]\n",
      " [0.64646465 1.34009719 0.        ]\n",
      " [0.66666667 3.05346007 0.        ]\n",
      " [0.68686869 4.         2.        ]\n",
      " [0.70707071 4.         2.        ]\n",
      " [0.72727273 2.90937723 0.        ]\n",
      " [0.74747475 0.39405582 0.        ]\n",
      " [0.76767677 2.01205055 0.        ]\n",
      " [0.78787879 1.82015213 0.        ]\n",
      " [0.80808081 0.10988719 0.        ]\n",
      " [0.82828283 2.49184244 0.        ]\n",
      " [0.84848485 2.07388983 0.        ]\n",
      " [0.86868687 1.39746046 0.        ]\n",
      " [0.88888889 2.76530576 0.        ]\n",
      " [0.90909091 4.         2.        ]\n",
      " [0.92929293 0.1271187  0.        ]\n",
      " [0.94949495 0.37765381 0.        ]\n",
      " [0.96969697 3.63994074 0.        ]\n",
      " [0.98989899 3.65098293 0.        ]\n",
      " [1.01010101 3.27251583 0.        ]\n",
      " [1.03030303 0.64720815 0.        ]\n",
      " [1.05050505 2.30184209 0.        ]\n",
      " [1.07070707 1.81029347 0.        ]\n",
      " [1.09090909 1.36185873 0.        ]\n",
      " [1.11111111 3.06953955 0.        ]\n",
      " [1.13131313 3.03312751 0.        ]\n",
      " [1.15151515 3.24609913 0.        ]\n",
      " [1.17171717 4.         2.        ]\n",
      " [1.19191919 2.4054665  0.        ]\n",
      " [1.21212121 4.         2.        ]\n",
      " [1.23232323 0.06069384 0.        ]\n",
      " [1.25252525 2.10113161 0.        ]\n",
      " [1.27272727 3.75275935 0.        ]\n",
      " [1.29292929 4.         2.        ]\n",
      " [1.31313131 2.67057918 0.        ]\n",
      " [1.33333333 3.36746528 0.        ]\n",
      " [1.35353535 3.06615695 0.        ]\n",
      " [1.37373737 4.         2.        ]\n",
      " [1.39393939 0.19240895 0.        ]\n",
      " [1.41414141 0.46815776 0.        ]\n",
      " [1.43434343 4.         2.        ]\n",
      " [1.45454545 4.         2.        ]\n",
      " [1.47474747 0.96952775 0.        ]\n",
      " [1.49494949 3.66142333 0.        ]\n",
      " [1.51515152 0.34579874 0.        ]\n",
      " [1.53535354 3.55909737 0.        ]\n",
      " [1.55555556 0.53256151 0.        ]\n",
      " [1.57575758 0.48869468 0.        ]\n",
      " [1.5959596  3.80859144 0.        ]\n",
      " [1.61616162 3.02971797 0.        ]\n",
      " [1.63636364 2.6789733  0.        ]\n",
      " [1.65656566 1.99186861 0.        ]\n",
      " [1.67676768 2.13170009 0.        ]\n",
      " [1.6969697  2.00526765 0.        ]\n",
      " [1.71717172 4.         2.        ]\n",
      " [1.73737374 1.91961309 0.        ]\n",
      " [1.75757576 4.         2.        ]\n",
      " [1.77777778 4.         2.        ]\n",
      " [1.7979798  4.         2.        ]\n",
      " [1.81818182 3.73893523 0.        ]\n",
      " [1.83838384 1.52237267 0.        ]\n",
      " [1.85858586 1.33070095 0.        ]\n",
      " [1.87878788 1.92412463 0.        ]\n",
      " [1.8989899  4.         2.        ]\n",
      " [1.91919192 2.87421375 0.        ]\n",
      " [1.93939394 3.01434911 0.        ]\n",
      " [1.95959596 3.97231313 0.        ]\n",
      " [1.97979798 4.         2.        ]\n",
      " [2.         4.         2.        ]]\n"
     ]
    }
   ],
   "source": [
    "#1\n",
    "zero_two = np.linspace ( 0,2, 100)\n",
    "zero_five = np.random.uniform( 0,5, 100)\n",
    "depends_col = np.where(zero_five > 4, 2, 0) \n",
    "\n",
    "mat = np.column_stack((zero_two, zero_five, depends_col))\n",
    "#print(mat)\n",
    "\n",
    "#2\n",
    "#print(mat[0:10])\n",
    "\n",
    "#3\n",
    "mer_enn_fire = np.where(zero_five > 4)\n",
    "print(np.shape(mer_enn_fire)[1])\n",
    "\n",
    "#4\n",
    "max_rad_to = np.max(zero_five)\n",
    "print(max_rad_to)\n",
    "\n",
    "#5\n",
    "mer_enn_fire = np.where(zero_five > 4)\n",
    "sum_larger_four = np.sum(mat[mer_enn_fire])\n",
    "print(sum_larger_four)\n",
    "\n",
    "#6\n",
    "mat[:, 1] = np.where(mat[:, 1] > 4, 4, mat[:, 1]) \n",
    "print(mat)\n",
    "\n"
   ]
  },
  {
   "cell_type": "code",
   "execution_count": 191,
   "metadata": {},
   "outputs": [],
   "source": [
    "# din kode "
   ]
  },
  {
   "cell_type": "markdown",
   "metadata": {},
   "source": [
    "## Pandas\n",
    "\n",
    "Her har vi data om passasjerer på skipet Titanic og informasjon om hvorvidt de overlevde. Noen passasjergrupper hadde bedre sjanser for å overleve. I denne oppgaven skal du bruke passasjerdata for å se om du kan finne noen mønstre. Først importerer vi pandas pakken. "
   ]
  },
  {
   "cell_type": "code",
   "execution_count": 3,
   "metadata": {},
   "outputs": [],
   "source": [
    "import pandas as pd"
   ]
  },
  {
   "cell_type": "markdown",
   "metadata": {},
   "source": [
    "Les inn datasettet titanic.csv i et pandas DataFrame `df`. Tips: Bruk [`pandas.read_csv`](https://pandas.pydata.org/docs/reference/api/pandas.read_csv.html). "
   ]
  },
  {
   "cell_type": "code",
   "execution_count": 4,
   "metadata": {},
   "outputs": [],
   "source": [
    "# lese inn data\n",
    "df = pd.read_csv(\"titanic.csv\")"
   ]
  },
  {
   "cell_type": "markdown",
   "metadata": {},
   "source": [
    "Se på de første 10 radene av datasettet. Tips: Bruk [`pandas.DataFrame.head`](https://pandas.pydata.org/docs/reference/api/pandas.DataFrame.head.html). "
   ]
  },
  {
   "cell_type": "code",
   "execution_count": 6,
   "metadata": {},
   "outputs": [
    {
     "name": "stdout",
     "output_type": "stream",
     "text": [
      "   PassengerId  Survived  Pclass  \\\n",
      "0            1         0       3   \n",
      "1            2         1       1   \n",
      "2            3         1       3   \n",
      "3            4         1       1   \n",
      "4            5         0       3   \n",
      "5            6         0       3   \n",
      "6            7         0       1   \n",
      "7            8         0       3   \n",
      "8            9         1       3   \n",
      "9           10         1       2   \n",
      "\n",
      "                                                Name     Sex   Age  SibSp  \\\n",
      "0                            Braund, Mr. Owen Harris    male  22.0      1   \n",
      "1  Cumings, Mrs. John Bradley (Florence Briggs Th...  female  38.0      1   \n",
      "2                             Heikkinen, Miss. Laina  female  26.0      0   \n",
      "3       Futrelle, Mrs. Jacques Heath (Lily May Peel)  female  35.0      1   \n",
      "4                           Allen, Mr. William Henry    male  35.0      0   \n",
      "5                                   Moran, Mr. James    male   NaN      0   \n",
      "6                            McCarthy, Mr. Timothy J    male  54.0      0   \n",
      "7                     Palsson, Master. Gosta Leonard    male   2.0      3   \n",
      "8  Johnson, Mrs. Oscar W (Elisabeth Vilhelmina Berg)  female  27.0      0   \n",
      "9                Nasser, Mrs. Nicholas (Adele Achem)  female  14.0      1   \n",
      "\n",
      "   Parch            Ticket     Fare Cabin Embarked  \n",
      "0      0         A/5 21171   7.2500   NaN        S  \n",
      "1      0          PC 17599  71.2833   C85        C  \n",
      "2      0  STON/O2. 3101282   7.9250   NaN        S  \n",
      "3      0            113803  53.1000  C123        S  \n",
      "4      0            373450   8.0500   NaN        S  \n",
      "5      0            330877   8.4583   NaN        Q  \n",
      "6      0             17463  51.8625   E46        S  \n",
      "7      1            349909  21.0750   NaN        S  \n",
      "8      2            347742  11.1333   NaN        S  \n",
      "9      0            237736  30.0708   NaN        C  \n"
     ]
    }
   ],
   "source": [
    "# første 10 radene\n",
    "første_rad = df.head(10)\n",
    "print(første_rad)"
   ]
  },
  {
   "cell_type": "markdown",
   "metadata": {},
   "source": [
    "Beskriv alle kolonnene. For numeriske kolonner, vis i hvert fall gjennomsnitt, minimum, maximum og median. For kategoriske kolonner, vis antall unike verdier og den mest vanlige verdien. Tips: Bruk [`pandas.DataFrame.describe`](https://pandas.pydata.org/docs/reference/api/pandas.DataFrame.describe.html). "
   ]
  },
  {
   "cell_type": "code",
   "execution_count": 9,
   "metadata": {},
   "outputs": [],
   "source": [
    "# data beskrivelse\n",
    "beskrivelse = df.describe()"
   ]
  },
  {
   "cell_type": "markdown",
   "metadata": {},
   "source": [
    "Lag en ny `numpy` array med overlevelses-status (kolonnen `Survived`).  Tips: Bruk [`pandas.DataFrame.loc`](https://pandas.pydata.org/docs/reference/api/pandas.DataFrame.loc.html) og [`pandas.DataFrame.to_numpy`](https://pandas.pydata.org/docs/reference/api/pandas.DataFrame.to_numpy.html). "
   ]
  },
  {
   "cell_type": "code",
   "execution_count": 19,
   "metadata": {},
   "outputs": [
    {
     "name": "stdout",
     "output_type": "stream",
     "text": [
      "[0 1 1 1 0 0 0 0 1 1 1 1 0 0 0 1 0 1 0 1 0 1 1 1 0 1 0 0 1 0 0 1 1 0 0 0 1\n",
      " 0 0 1 0 0 0 1 1 0 0 1 0 0 0 0 1 1 0 1 1 0 1 0 0 1 0 0 0 1 1 0 1 0 0 0 0 0\n",
      " 1 0 0 0 1 1 0 1 1 0 1 1 0 0 1 0 0 0 0 0 0 0 0 1 1 0 0 0 0 0 0 0 1 1 0 1 0\n",
      " 0 0 0 0 0 0 0 0 0 0 0 0 1 0 1 0 1 1 0 0 0 0 1 0 0 1 0 0 0 0 1 1 0 0 0 1 0\n",
      " 0 0 0 1 0 0 0 0 1 0 0 0 0 1 0 0 0 1 1 0 0 0 0 0 1 0 0 0 0 0 0 0 0 0 0 1 1\n",
      " 0 1 1 0 0 1 0 1 1 1 1 0 0 1 0 0 0 0 0 1 0 0 1 1 1 0 1 0 0 0 1 1 0 1 0 1 0\n",
      " 0 0 1 0 1 0 0 0 1 0 0 1 0 0 0 1 0 0 0 1 0 0 0 0 0 1 1 0 0 0 0 0 0 1 1 1 1\n",
      " 1 0 1 0 0 0 0 0 1 1 1 0 1 1 0 1 1 0 0 0 1 0 0 0 1 0 0 1 0 1 1 1 1 0 0 0 0\n",
      " 0 0 1 1 1 1 0 1 0 1 1 1 0 1 1 1 0 0 0 1 1 0 1 1 0 0 1 1 0 1 0 1 1 1 1 0 0\n",
      " 0 1 0 0 1 1 0 1 1 0 0 0 1 1 1 1 0 0 0 0 0 0 0 1 0 1 1 0 0 0 0 0 0 1 1 1 1\n",
      " 1 0 0 0 0 1 1 0 0 0 1 1 0 1 0 0 0 1 0 1 1 1 0 1 1 0 0 0 0 1 1 0 0 0 0 0 0\n",
      " 1 0 0 0 0 1 0 1 0 1 1 0 0 0 0 0 0 0 0 1 1 0 1 1 1 1 0 0 1 0 1 0 0 1 0 0 1\n",
      " 1 1 1 1 1 1 0 0 0 1 0 1 0 1 1 0 1 0 0 0 0 0 0 0 0 1 0 0 1 1 0 0 0 0 0 1 0\n",
      " 0 0 1 1 0 1 0 0 1 0 0 0 0 0 0 1 0 0 0 0 0 0 0 1 0 1 1 0 1 1 0 1 1 0 0 1 0\n",
      " 1 0 1 0 0 1 0 0 1 0 0 0 1 0 0 1 0 1 0 1 0 1 1 0 0 1 0 0 1 1 0 1 1 0 0 1 1\n",
      " 0 1 0 1 1 0 0 0 0 0 0 0 0 0 1 1 1 1 1 0 0 1 1 0 1 1 1 0 0 0 1 0 1 0 0 0 1\n",
      " 0 0 0 0 1 0 0 1 1 0 0 0 1 0 0 1 1 1 0 0 1 0 0 1 0 0 1 0 0 1 1 0 0 0 0 1 0\n",
      " 0 1 0 1 0 0 1 0 0 0 0 0 1 0 1 1 1 0 1 0 1 0 1 0 1 0 0 0 0 0 0 1 0 0 0 1 0\n",
      " 0 0 0 1 1 0 0 1 0 0 0 1 0 1 0 1 0 0 0 0 0 0 0 1 1 1 1 0 0 0 0 1 0 0 1 1 0\n",
      " 0 0 0 1 1 1 1 1 0 1 0 0 0 1 1 0 0 1 0 0 0 1 0 1 1 0 0 1 0 0 0 0 0 0 1 0 0\n",
      " 1 0 1 0 1 0 0 1 0 0 1 1 0 0 1 1 0 0 0 1 0 0 1 1 0 1 0 0 0 0 0 0 0 0 1 0 0\n",
      " 1 0 1 1 1 0 0 0 0 1 0 1 0 0 0 0 0 0 0 1 1 0 0 0 1 1 1 1 0 0 0 0 1 0 0 0 0\n",
      " 0 0 0 0 0 0 1 1 0 1 0 0 0 1 1 1 1 1 0 0 0 1 0 0 1 1 0 0 1 0 0 0 0 0 0 1 0\n",
      " 0 0 1 0 1 1 1 1 0 0 0 1 0 0 1 1 0 0 1 0 1 0 0 1 1 0 0 0 1 1 0 0 0 0 0 0 1\n",
      " 0 1 0]\n"
     ]
    }
   ],
   "source": [
    "# lage overlevelses-variabel\n",
    "overlever_df = df.loc[:, 'Survived']\n",
    "overlever = overlever_df.to_numpy()\n",
    "print(overlever)"
   ]
  },
  {
   "cell_type": "markdown",
   "metadata": {},
   "source": [
    "Regn ut total andel av pasasjerer som overlevde. Tips: Bruk [`numpy.mean`](https://numpy.org/doc/stable/reference/generated/numpy.mean.html) eller [`pandas.DataFrame.mean`](https://pandas.pydata.org/docs/reference/api/pandas.DataFrame.mean.html). \n"
   ]
  },
  {
   "cell_type": "code",
   "execution_count": 18,
   "metadata": {},
   "outputs": [
    {
     "name": "stdout",
     "output_type": "stream",
     "text": [
      "0.3838383838383838\n"
     ]
    }
   ],
   "source": [
    "# andel som overlevde\n",
    "andel_overlever = overlever.mean()\n",
    "print(andel_overlever) "
   ]
  },
  {
   "cell_type": "markdown",
   "metadata": {},
   "source": [
    "Regn ut proporsjonen av kvinner og menn som overlevde. Du kan bruke [`pandas.DataFrame.groupby`](https://pandas.pydata.org/docs/reference/api/pandas.DataFrame.groupby.html)."
   ]
  },
  {
   "cell_type": "code",
   "execution_count": 28,
   "metadata": {},
   "outputs": [
    {
     "data": {
      "text/plain": [
       "Sex\n",
       "female    0.742038\n",
       "male      0.188908\n",
       "Name: Survived, dtype: float64"
      ]
     },
     "execution_count": 28,
     "metadata": {},
     "output_type": "execute_result"
    }
   ],
   "source": [
    "# overlevelse blant kvinner og menn\n",
    "kjonn_overlevelse = df.groupby(\"Sex\")[\"Survived\"].mean()\n",
    "kjonn_overlevelse"
   ]
  },
  {
   "cell_type": "markdown",
   "metadata": {},
   "source": [
    "Regn ut proporsjonen som overlevde i hver klasse (`Pclass`). "
   ]
  },
  {
   "cell_type": "code",
   "execution_count": 29,
   "metadata": {},
   "outputs": [
    {
     "data": {
      "text/plain": [
       "Pclass\n",
       "1    0.629630\n",
       "2    0.472826\n",
       "3    0.242363\n",
       "Name: Survived, dtype: float64"
      ]
     },
     "execution_count": 29,
     "metadata": {},
     "output_type": "execute_result"
    }
   ],
   "source": [
    "# overlevelse per klasse\n",
    "klasse_overlevelse = df.groupby(\"Pclass\")[\"Survived\"].mean()\n",
    "klasse_overlevelse"
   ]
  },
  {
   "cell_type": "markdown",
   "metadata": {},
   "source": [
    "Lag en ny variabel i `df` med aldersgrupper [0, 18), [18, 60) og [60, 120). Tips: Du kan bruke [`pandas.cut`](https://pandas.pydata.org/docs/reference/api/pandas.cut.html)."
   ]
  },
  {
   "cell_type": "code",
   "execution_count": 30,
   "metadata": {},
   "outputs": [
    {
     "ename": "ValueError",
     "evalue": "Input array must be 1 dimensional",
     "output_type": "error",
     "traceback": [
      "\u001b[0;31m---------------------------------------------------------------------------\u001b[0m",
      "\u001b[0;31mValueError\u001b[0m                                Traceback (most recent call last)",
      "Cell \u001b[0;32mIn[30], line 2\u001b[0m\n\u001b[1;32m      1\u001b[0m \u001b[38;5;66;03m# aldersgrupper\u001b[39;00m\n\u001b[0;32m----> 2\u001b[0m df\u001b[38;5;241m.\u001b[39mloc[:, \u001b[38;5;124m'\u001b[39m\u001b[38;5;124mAgeGroup\u001b[39m\u001b[38;5;124m'\u001b[39m] \u001b[38;5;241m=\u001b[39m \u001b[43mpd\u001b[49m\u001b[38;5;241;43m.\u001b[39;49m\u001b[43mcut\u001b[49m\u001b[43m(\u001b[49m\u001b[43mdf\u001b[49m\u001b[43m,\u001b[49m\u001b[43m[\u001b[49m\u001b[38;5;241;43m0\u001b[39;49m\u001b[43m,\u001b[49m\u001b[38;5;241;43m20\u001b[39;49m\u001b[43m]\u001b[49m\u001b[43m)\u001b[49m\n",
      "File \u001b[0;32m~/.local/lib/python3.10/site-packages/pandas/core/reshape/tile.py:242\u001b[0m, in \u001b[0;36mcut\u001b[0;34m(x, bins, right, labels, retbins, precision, include_lowest, duplicates, ordered)\u001b[0m\n\u001b[1;32m    239\u001b[0m \u001b[38;5;66;03m# NOTE: this binning code is changed a bit from histogram for var(x) == 0\u001b[39;00m\n\u001b[1;32m    241\u001b[0m original \u001b[38;5;241m=\u001b[39m x\n\u001b[0;32m--> 242\u001b[0m x \u001b[38;5;241m=\u001b[39m \u001b[43m_preprocess_for_cut\u001b[49m\u001b[43m(\u001b[49m\u001b[43mx\u001b[49m\u001b[43m)\u001b[49m\n\u001b[1;32m    243\u001b[0m x, dtype \u001b[38;5;241m=\u001b[39m _coerce_to_type(x)\n\u001b[1;32m    245\u001b[0m \u001b[38;5;28;01mif\u001b[39;00m \u001b[38;5;129;01mnot\u001b[39;00m np\u001b[38;5;241m.\u001b[39miterable(bins):\n",
      "File \u001b[0;32m~/.local/lib/python3.10/site-packages/pandas/core/reshape/tile.py:606\u001b[0m, in \u001b[0;36m_preprocess_for_cut\u001b[0;34m(x)\u001b[0m\n\u001b[1;32m    604\u001b[0m     x \u001b[38;5;241m=\u001b[39m np\u001b[38;5;241m.\u001b[39masarray(x)\n\u001b[1;32m    605\u001b[0m \u001b[38;5;28;01mif\u001b[39;00m x\u001b[38;5;241m.\u001b[39mndim \u001b[38;5;241m!=\u001b[39m \u001b[38;5;241m1\u001b[39m:\n\u001b[0;32m--> 606\u001b[0m     \u001b[38;5;28;01mraise\u001b[39;00m \u001b[38;5;167;01mValueError\u001b[39;00m(\u001b[38;5;124m\"\u001b[39m\u001b[38;5;124mInput array must be 1 dimensional\u001b[39m\u001b[38;5;124m\"\u001b[39m)\n\u001b[1;32m    608\u001b[0m \u001b[38;5;28;01mreturn\u001b[39;00m x\n",
      "\u001b[0;31mValueError\u001b[0m: Input array must be 1 dimensional"
     ]
    }
   ],
   "source": [
    "# aldersgrupper\n",
    "df.loc[:, 'AgeGroup'] = pd.cut(df[\"Age\"],[0,20])"
   ]
  },
  {
   "cell_type": "markdown",
   "metadata": {},
   "source": [
    "Hvor mange passasjerer er i hver aldersgruppe? Tips: Du kan bruke [`pandas.DataFrame.value_counts`](https://pandas.pydata.org/docs/reference/api/pandas.DataFrame.value_counts.html). "
   ]
  },
  {
   "cell_type": "code",
   "execution_count": null,
   "metadata": {},
   "outputs": [],
   "source": [
    "# passasjerer per aldersgruppe\n",
    "passasjerer_per_aldersgruppe = ___\n",
    "passasjerer_per_aldersgruppe"
   ]
  },
  {
   "cell_type": "markdown",
   "metadata": {},
   "source": [
    "Regn ut proporsjonen som overlevde i hver aldersgruppe. "
   ]
  },
  {
   "cell_type": "code",
   "execution_count": null,
   "metadata": {},
   "outputs": [],
   "source": [
    "# overlevelse per aldersgruppe\n",
    "overlevelse_per_aldersgruppe = ___\n",
    "overlevelse_per_aldersgruppe"
   ]
  },
  {
   "cell_type": "markdown",
   "metadata": {},
   "source": [
    "Legg til dummy-variabler for hver alderskategori. Tips: Du kan bruke [`pandas.get_dummies`](https://pandas.pydata.org/docs/reference/api/pandas.get_dummies.html). "
   ]
  },
  {
   "cell_type": "code",
   "execution_count": null,
   "metadata": {},
   "outputs": [],
   "source": [
    "# alderskategori dummy variabler\n",
    "df = ___"
   ]
  },
  {
   "cell_type": "markdown",
   "metadata": {},
   "source": [
    "Regn ut proporsjonen som overlevde i og utenfor aldersgruppen [18, 60) for hver kjønn. "
   ]
  },
  {
   "cell_type": "code",
   "execution_count": null,
   "metadata": {},
   "outputs": [],
   "source": [
    "# andel som overlevde i og utenfor aldersgruppen [18, 60) for hver kjønn. \n",
    "overlevelse_kjonn_alder = ___\n",
    "overlevelse_kjonn_alder"
   ]
  }
 ],
 "metadata": {
  "celltoolbar": "Tags",
  "kernelspec": {
   "display_name": "Python 3 (ipykernel)",
   "language": "python",
   "name": "python3"
  },
  "language_info": {
   "codemirror_mode": {
    "name": "ipython",
    "version": 3
   },
   "file_extension": ".py",
   "mimetype": "text/x-python",
   "name": "python",
   "nbconvert_exporter": "python",
   "pygments_lexer": "ipython3",
   "version": "3.10.12"
  }
 },
 "nbformat": 4,
 "nbformat_minor": 4
}
