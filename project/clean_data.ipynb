{
 "cells": [
  {
   "cell_type": "code",
   "execution_count": null,
   "metadata": {},
   "outputs": [],
   "source": [
    "#TODO make a dataframe which can be used in ML model\n",
    "#TODO Data splitting, description, visualisation, and feature engineering"
   ]
  },
  {
   "cell_type": "code",
   "execution_count": 3,
   "metadata": {},
   "outputs": [
    {
     "name": "stdout",
     "output_type": "stream",
     "text": [
      "/home/henrik/INF161_H23/project/raw_data\n",
      "/home/henrik/INF161_H23/project/raw_data/Florida_2019-01-01_2020-01-01_1654174955.csv\n",
      "/home/henrik/INF161_H23/project/raw_data/Florida_2018-01-01_2019-01-01_1654175073.csv\n",
      "/home/henrik/INF161_H23/project/raw_data/Florida_2015-01-01_2016-01-01_1654174882.csv\n",
      "/home/henrik/INF161_H23/project/raw_data/Florida_2017-01-01_2018-01-01_1654174925.csv\n",
      "/home/henrik/INF161_H23/project/raw_data/Florida_2022-01-01_2023-01-01_1688719054.csv\n",
      "/home/henrik/INF161_H23/project/raw_data/Florida_2016-01-01_2017-01-01_1654174902.csv\n",
      "/home/henrik/INF161_H23/project/raw_data/Florida_2021-01-01_2022-01-01_1654174989.csv\n",
      "/home/henrik/INF161_H23/project/raw_data/Florida_2014-01-01_2015-01-01_1654174868.csv\n",
      "/home/henrik/INF161_H23/project/raw_data/Florida_2011-01-01_2012-01-01_1654174772.csv\n",
      "/home/henrik/INF161_H23/project/raw_data/Florida_2013-01-01_2014-01-01_1654174853.csv\n",
      "/home/henrik/INF161_H23/project/raw_data/trafikkdata.csv\n",
      "/home/henrik/INF161_H23/project/raw_data/Florida_2023-01-01_2023-07-01_1688719120.csv\n",
      "/home/henrik/INF161_H23/project/raw_data/Florida_2010-01-01_2011-01-01_1654174747.csv\n",
      "/home/henrik/INF161_H23/project/raw_data/Florida_2020-01-01_2021-01-01_1654174973.csv\n",
      "/home/henrik/INF161_H23/project/raw_data/Florida_2012-01-01_2013-01-01_1654174811.csv\n"
     ]
    }
   ],
   "source": [
    "#TODO make a dataframe which can be used in ML model\n",
    "#TODO Data splitting, description, visualisation, and feature engineering\n",
    "\n",
    "import os\n",
    "from pathlib import Path\n",
    "\n",
    "pwd = Path().absolute()\n",
    "directory = f\"{str(pwd)}/raw_data\"\n",
    " \n",
    "# iterate over files in dir\n",
    "\n",
    "florida_df_list = []\n",
    "\n",
    "for filename in os.scandir(directory):\n",
    "\n",
    "    if \"Florida\" in filename:\n",
    "        florida_df = treat_florida_files()\n",
    "    \n",
    "    if \"trafikkdata\" in filename:\n",
    "        trafikk_df = treat_trafikk_files()\n",
    "    \n",
    "\n",
    "    "
   ]
  }
 ],
 "metadata": {
  "kernelspec": {
   "display_name": "Python 3",
   "language": "python",
   "name": "python3"
  },
  "language_info": {
   "codemirror_mode": {
    "name": "ipython",
    "version": 3
   },
   "file_extension": ".py",
   "mimetype": "text/x-python",
   "name": "python",
   "nbconvert_exporter": "python",
   "pygments_lexer": "ipython3",
   "version": "3.10.12"
  },
  "orig_nbformat": 4
 },
 "nbformat": 4,
 "nbformat_minor": 2
}
