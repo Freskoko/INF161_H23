{
 "cells": [
  {
   "cell_type": "markdown",
   "metadata": {},
   "source": [
    "## Iris data\n",
    "\n",
    "Iris-blomsterdatasettet er et multivariat datasett introdusert av den britiske statistikeren og biologen Ronald Fisher i sin artikkel fra 1936. Det har blitt et populært dataset for å teste ut nye metoder. Datasettet inneholder 3 klasser, hvor hver klasse refererer til en type irisplante. Her utforsker vi datasettet med forskjellige visualiseringsmetoder. \n",
    "\n",
    "Som alltid laster vi først inn pakkene vi trenger. "
   ]
  },
  {
   "cell_type": "code",
   "execution_count": null,
   "metadata": {},
   "outputs": [],
   "source": [
    "import numpy as np\n",
    "import pandas as pd \n",
    "from sklearn.datasets import load_iris\n",
    "from sklearn.decomposition import PCA \n",
    "\n",
    "import plotly.express as px\n",
    "import plotly.graph_objects as go"
   ]
  },
  {
   "cell_type": "markdown",
   "metadata": {},
   "source": [
    "Så leser vi inn data og forbereder den til analysen. "
   ]
  },
  {
   "cell_type": "code",
   "execution_count": null,
   "metadata": {},
   "outputs": [],
   "source": [
    "# Read the file into a variable iris_data\n",
    "iris = load_iris()\n",
    "# print(iris)\n",
    "iris_data = pd.DataFrame(iris['data'], columns=iris['feature_names'])\n",
    "iris_labels = iris.target_names[iris['target']]\n",
    "\n",
    "# Print the first 5 rows of the data\n",
    "iris_data.head()\n",
    "iris_data.tail()\n"
   ]
  },
  {
   "cell_type": "markdown",
   "metadata": {},
   "source": [
    "**En egenskap om gangen**:\n",
    "\n",
    "Først ser vi på en egenskap i datasettet om gangen. \n",
    "Lag et histogram av alle kolonner i datasettet. Tips: Bruk [`plotly.express.histogram`](https://plotly.com/python/histograms/). "
   ]
  },
  {
   "cell_type": "code",
   "execution_count": null,
   "metadata": {},
   "outputs": [],
   "source": [
    "# Histogramer\n",
    "for col in iris_data.columns:\n",
    "    fig = px.histogram(iris_data[col],\n",
    "                        x = col,\n",
    "                        histnorm='probability density',\n",
    "                        nbins=150\n",
    "                       )\n",
    "    \n",
    "    fig.show()"
   ]
  },
  {
   "cell_type": "markdown",
   "metadata": {},
   "source": [
    "Nå vil vi legge til en ekstra dimensjon ved å bruke farge. Fargelegg histogramene etter spesies. "
   ]
  },
  {
   "cell_type": "code",
   "execution_count": null,
   "metadata": {},
   "outputs": [],
   "source": [
    "# Histogramer farget etter spesies\n",
    "\n",
    "for col in iris_data.columns:\n",
    "    fig = px.histogram(iris_data[col],\n",
    "                        x = col,\n",
    "                        histnorm='probability density',\n",
    "                        nbins=150,\n",
    "                        color = iris_labels\n",
    "                       )\n",
    "    \n",
    "    fig.show()"
   ]
  },
  {
   "cell_type": "markdown",
   "metadata": {},
   "source": [
    "Så skal vi se på tre egenskaper samtidig. Lag en figur med sepal width på x-aksen, sepal length på y-aksen, fargelagt etter type irisplante, der vi har et punkt for hver plante i datasettet. Tips: Bruk [`plotly.express.scatter`](https://plotly.com/python-api-reference/generated/plotly.express.scatter.html). "
   ]
  },
  {
   "cell_type": "code",
   "execution_count": null,
   "metadata": {},
   "outputs": [],
   "source": [
    "# Scatterplot\n",
    "fig = px.scatter(iris_data,\n",
    "                x=\"sepal width (cm)\", \n",
    "                y='sepal length (cm)',\n",
    "                color = iris_labels\n",
    "                )\n",
    "\n",
    "fig.show()"
   ]
  },
  {
   "cell_type": "markdown",
   "metadata": {},
   "source": [
    "I stedet for en scatterplott vil vi noen ganger heller se på 2-dimensjonal tetthet. Lag en 2-dimensjonal tetthetsfigur (contour plot) med `sepal width (cm)` på x-aksen og `sepal length (cm)` på y-aksen. Tips: Bruk [`plotly.express.density_contour`](https://plotly.com/python-api-reference/generated/plotly.express.density_contour.html). "
   ]
  },
  {
   "cell_type": "code",
   "execution_count": null,
   "metadata": {},
   "outputs": [],
   "source": [
    "# Tetthet\n",
    "fig = px.density_contour(iris_data,\n",
    "                x=\"sepal width (cm)\", \n",
    "                y='sepal length (cm)',\n",
    "                color = iris_labels\n",
    "                )\n",
    "\n",
    "fig.show()"
   ]
  },
  {
   "cell_type": "markdown",
   "metadata": {},
   "source": [
    "Det blir litt enklere å lese hvis vi ikke bare har konturer, men fargelegger etter tetthet. For å gjøre det, kan vi bruke [`plotly.graph_objects.Figure.update_traces`](https://plotly.com/python-api-reference/generated/plotly.graph_objects.Figure.html#plotly.graph_objects.Figure.update_traces)-metoden med argumentene `contours_coloring=\"fill\"` og for eksempel `colorscale = 'Blues'`. De argumentene kan være vanskelig å finne i dokumentasjonen og det er ofte nødvendig å søke på nettet for å finne slike løsninger. "
   ]
  },
  {
   "cell_type": "code",
   "execution_count": null,
   "metadata": {},
   "outputs": [],
   "source": [
    "# Tetthet\n",
    "fig = px.density_contour(iris_data,\n",
    "                x=\"sepal width (cm)\", \n",
    "                y='sepal length (cm)',\n",
    "                color = iris_labels\n",
    "                )\n",
    "\n",
    "fig.update_traces(contours_coloring=\"fill\", \n",
    "                  colorscale = 'Blues')\n",
    "fig.show()"
   ]
  },
  {
   "cell_type": "markdown",
   "metadata": {},
   "source": [
    "Til slutt ser vi på to metoder for å se på alle variablene samtidig. Regn ut de første to prinsipale komponenter PC1 og PC2. Så lag en scatterfigur med PC1 på x-aksen, PC2 på y-aksen, fargelagt etter type irisplante. Tips: Bruk [`sklearn.decomposition.PCA`](https://scikit-learn.org/stable/modules/generated/sklearn.decomposition.PCA.html). Som vi har sett tidligere er sklearn sine metoder er alle bygget opp på en lignende måte. Først må vi lage en modell (`init`-metode), så må vi tilpasse modellen til treningsdata (`fit`-metode) og til slutt kan vi bruke den til å predikere (`predict`-metode) for nye data eller transformere (`transform`-metode) nye data. "
   ]
  },
  {
   "cell_type": "code",
   "execution_count": null,
   "metadata": {
    "tags": [
     "solution"
    ]
   },
   "outputs": [],
   "source": [
    "pca = PCA(n_components=2)\n",
    "pca.fit(iris_data)\n",
    "# pca_df = pd.DataFrame(pca.transform(iris_data.drop(\"species\")), \n",
    "pca_df = pd.DataFrame(pca.transform(iris_data), \n",
    "                      columns=['PC1', 'PC2'])\n",
    "\n",
    "print(pca_df)\n",
    "\n",
    "# Scatterplot\n",
    "fig = px.scatter(data_frame=pca_df, \n",
    "                 x='PC1', \n",
    "                 y='PC2', \n",
    "                 color=iris_labels,\n",
    "                 labels={'color':'Type'})\n",
    "fig.show()"
   ]
  },
  {
   "cell_type": "markdown",
   "metadata": {},
   "source": [
    "Hvis vi har så få koordinater som her kan det være et alternativ til PCA å bruke parallele koordinater. Bruk parallele koordinater for å visualisere iris data. Tips: Bruk [`plotly.express.parallel_coordinates`](https://plotly.com/python-api-reference/generated/plotly.express.parallel_coordinates.html). "
   ]
  },
  {
   "cell_type": "code",
   "execution_count": null,
   "metadata": {},
   "outputs": [],
   "source": [
    "# Parallele koordinater\n",
    "fig = px.parallel_coordinates(\n",
    "        iris_data,\n",
    "        # color = iris_labels,\n",
    "        dimensions=[\"sepal length (cm)\",\"sepal width (cm)\",\"petal length (cm)\",\"petal width (cm)\"])\n",
    "\n",
    "fig.show()"
   ]
  },
  {
   "cell_type": "markdown",
   "metadata": {},
   "source": [
    "Fargelegg figuren med parallele koordinater etter type irisplante. Merk at [`plotly.express.parallel_coordinates`](https://plotly.com/python-api-reference/generated/plotly.express.parallel_coordinates.html) ikke er tenkt for å brukes med kategoriske farger. For å få det til likevel, så kan vi bruke en kontinuerlig fargeskala som er stykkevis konstant. Vi må også bruke en numerisk variabel for å fargelegge etter i stedet for den kontinuerlige variablen vi har brukt til nå. "
   ]
  },
  {
   "cell_type": "code",
   "execution_count": null,
   "metadata": {},
   "outputs": [],
   "source": [
    "fig = px.parallel_coordinates(\n",
    "        iris_data,\n",
    "        dimensions=[\"sepal length (cm)\",\"sepal width (cm)\",\"petal length (cm)\",\"petal width (cm)\"],\n",
    "        color= iris[\"target\"],\n",
    "        color_continuous_scale=[(0.00, \"#8DD3C7\"),   (0.33, \"#8DD3C7\"),\n",
    "                                (0.33, \"#FFFFB3\"), (0.67, \"#FFFFB3\"),\n",
    "                                (0.67, \"#BEBADA\"),  (1.00, \"#BEBADA\")]\n",
    "        )\n",
    "                    \n",
    "\n",
    "\n",
    "fig.update_layout(coloraxis_colorbar=dict(\n",
    "    title=\"Spesies\", \n",
    "    tickvals=[0.33, 1, 1.67], \n",
    "    ticktext=iris.target_names\n",
    "))\n",
    "\n",
    "fig.show()"
   ]
  },
  {
   "cell_type": "markdown",
   "metadata": {},
   "source": [
    "## Museum data\n",
    "\n",
    "Museum datasettet (data/museum.csv) inneholder data om museumsbesøk mellom januar 2014 og juni 2021. Data er hentet fra [Los Angeles open data](https://data.lacity.org/Arts-Culture/Museum-Visitors/trxm-jn3c). Målet er å lage en figur av utviklingen av museumsbesøk de siste 7 årene. \n",
    "\n",
    "Begynn ved å lese inn data og se på de første radene. "
   ]
  },
  {
   "cell_type": "code",
   "execution_count": null,
   "metadata": {},
   "outputs": [],
   "source": [
    "import pandas as pd\n",
    "import plotly.express as px\n",
    "museum_data = pd.read_csv(\"data/museum.csv\")\n",
    "museum_data.head()"
   ]
  },
  {
   "cell_type": "markdown",
   "metadata": {},
   "source": [
    "Ved bruk av kolonnen `Month`, lag en ny kolonne `Date` som er har `dtype` `pandas.datetime`. Fjern deretter kolonnen `Month`. "
   ]
  },
  {
   "cell_type": "code",
   "execution_count": null,
   "metadata": {},
   "outputs": [],
   "source": [
    "# lag kolonnen Date\n",
    "museum_data['Date'] = pd.to_datetime(museum_data[\"Month\"])\n",
    "\n",
    "# print(museum_data.head())\n",
    "# fjern kolonnen Month\n",
    "museum_data.drop(\"Month\",axis=1,inplace=True)\n",
    "\n",
    "museum_data.head()"
   ]
  },
  {
   "cell_type": "markdown",
   "metadata": {},
   "source": [
    "Forandre data sånn at du har tre kolonner med dato, museum navn og antal besøkende. Tips: Bruk [`pandas.melt`](https://pandas.pydata.org/docs/reference/api/pandas.melt.html). Sorter deretter etter dato og museum navn. "
   ]
  },
  {
   "cell_type": "code",
   "execution_count": null,
   "metadata": {},
   "outputs": [],
   "source": [
    "# omformater data\n",
    "# museum_reshaped = pd.melt(museum_data,id_vars=[\"Date\"], value_vars = [\"IAMLA\",])\n",
    "museum_copy = museum_data\n",
    "mueseum_cols = museum_copy.drop(\"Date\",axis=1).columns\n",
    "museum_reshaped = pd.melt(museum_data,id_vars=[\"Date\"], value_vars = mueseum_cols)\n",
    "# sorter \n",
    "museum_reshaped[\"value\"] = museum_reshaped[\"value\"].astype(float) #litt usikker, rart at 6000 kommer før 10000\n",
    "museum_reshaped.sort_values(\"value\",inplace=True)"
   ]
  },
  {
   "cell_type": "markdown",
   "metadata": {},
   "source": [
    "Se på de første radene av det nye datasettet. "
   ]
  },
  {
   "cell_type": "code",
   "execution_count": null,
   "metadata": {},
   "outputs": [],
   "source": [
    "museum_reshaped.head()"
   ]
  },
  {
   "cell_type": "markdown",
   "metadata": {},
   "source": [
    "Velg ut en informativ figurtype og lag en figur som viser utviklingen av museumsbesøk i datasettet. "
   ]
  },
  {
   "cell_type": "code",
   "execution_count": null,
   "metadata": {},
   "outputs": [],
   "source": [
    "# Visualisering\n",
    "\n",
    "fig = px.histogram(museum_reshaped,\n",
    "                   x=\"Date\",\n",
    "                   y=\"value\",\n",
    "                    color = \"variable\"\n",
    "                    )\n",
    "    \n",
    "fig.show()"
   ]
  },
  {
   "cell_type": "markdown",
   "metadata": {},
   "source": [
    "Hva legger du merke til i figuren du lagde? Nevn minst tre ting. \n",
    "\n",
    "1. Popularitet\n",
    "\n",
    "Noen museummer får mye mer trafikk en andre, det er **Avila Adobe** som får mest besøk, dersom de tar opp mest plass i grafen (grønn)\n",
    "\n",
    "2. Nye museummer\n",
    "\n",
    "Museum of social justice har nok åpnet i 2018, siden det finnes ikke data for dette i histogrammet, og det er N/A verider for år før 2018 for Museum of social justice hvis man ser direkete i dataframen\n",
    "\n",
    "3. Corona\n",
    "\n",
    "Corona viruset hadde en stor effekt på alle museumer, og tallene gikk ned drastisk. I tilig 2021 var det kun \"America Tropical Interpretive Center som hadde besøkende"
   ]
  },
  {
   "cell_type": "markdown",
   "metadata": {},
   "source": [
    "..."
   ]
  },
  {
   "cell_type": "markdown",
   "metadata": {},
   "source": [
    "## Titanic data\n",
    "\n",
    "Titanic datasettet (data/titanic.csv) har vi sett på flere ganger i løpet av kurset. Her skal vi lage noen flere visualiseringer som relaterer prisen til andre variabler. \n",
    "\n",
    "Les inn data og se på de første radene av datasettet. "
   ]
  },
  {
   "cell_type": "code",
   "execution_count": null,
   "metadata": {},
   "outputs": [],
   "source": [
    "# lese inn data og se på de første radene. \n",
    "import pandas as pd\n",
    "titanic = pd.read_csv(\"data/titanic.csv\")\n",
    "titanic.head()\n"
   ]
  },
  {
   "cell_type": "markdown",
   "metadata": {},
   "source": [
    "Lag en meningsfull figur som viser kjønn (`Sex`) og pris (`Fare`) av titanic-passasjerene.\n",
    "\n",
    "Er det noen forskjeller mellom prisene som kvinner og men betaler?"
   ]
  },
  {
   "cell_type": "code",
   "execution_count": null,
   "metadata": {},
   "outputs": [],
   "source": [
    "# Visualisering av kjønn og pris\n",
    "\n",
    "import plotly.express as px\n",
    "import plotly.graph_objects as go\n",
    "\n",
    "# titanic_fixed = titanic[titanic[\"Fare\"] < 400] #Removed the large outliers value since it made the graph a\n",
    "\n",
    "fig = px.box(titanic, y=\"Fare\", x='Sex', width=800, height=1000)\n",
    "fig.update_layout(font=dict(size=36),\n",
    "template=\"simple_white\",)\n",
    "fig.show()\n",
    "\n",
    "\n"
   ]
  },
  {
   "cell_type": "markdown",
   "metadata": {},
   "source": [
    "It seems like women pay more on averge than males. Both have some pretty large outliers. "
   ]
  },
  {
   "cell_type": "markdown",
   "metadata": {},
   "source": [
    "Variasjonen i prisen er større blant kvinner enn blant menn. Typisk betaler kvinner mer enn menn. "
   ]
  },
  {
   "cell_type": "markdown",
   "metadata": {},
   "source": [
    "Vi har sett i forelesninen at det er store forskjeller mellom kjønn og klassen (`Pclass`). Kan det forklare forskjellen mellom kjønn og prisen? Lag en figur for å se på de tre variablene samtidig. \n",
    "\n",
    "På første forsøk er det kanskje ikke like lett å se forskjellen i alle klassene. Hva kan du gjøre for å få alle klassene til å vises like godt?\n",
    "\n",
    "Er det fortsatt forskjeller mellom kjønn og pris? I så fall, er det de samme forskjellene som vi så på i spørsmål før?"
   ]
  },
  {
   "cell_type": "code",
   "execution_count": null,
   "metadata": {},
   "outputs": [],
   "source": [
    "# Visualisering av kjønn, pris og klasse\n",
    "\n",
    "titanic_copy = titanic\n",
    "titanic_copy['Sex'] = titanic_copy['Sex'].map({'male': 1, 'female': 0})\n",
    "\n",
    "fig = px.parallel_coordinates(\n",
    "titanic_copy,\n",
    "color = titanic_copy[\"Fare\"],\n",
    "dimensions=['Sex', 'Fare',\"Pclass\"])\n",
    "\n",
    "fig.update_layout(font=dict(size=16),\n",
    "title=\"Sex vs Fare vs Class | 1 = male, 0 = female\",\n",
    "template=\"plotly_white\",\n",
    "width=1700, height=700)\n",
    "\n",
    "fig.show()"
   ]
  },
  {
   "cell_type": "markdown",
   "metadata": {},
   "source": [
    "From the graph above, one can see that most men really paid below 50, while a lot of women also paid below 50. However, a fair amount of women paid between 50-100, and even 100-150, much higher than the amount of men who paid these prices. It seems regardless that these women paid higher prices, the Pclass for this price range sits at 1, so they got to first class, having to pay a little more. It is also shown that most men paid below 50, but ended up in 3rd or second class.\n",
    "\n",
    "It is notable that a woman paid a price of 500,and this could drag the mean up, but considering the amount of entries is very high, it should not be that much of an issue. "
   ]
  }
 ],
 "metadata": {
  "celltoolbar": "Tags",
  "kernelspec": {
   "display_name": "Python 3 (ipykernel)",
   "language": "python",
   "name": "python3"
  },
  "language_info": {
   "codemirror_mode": {
    "name": "ipython",
    "version": 3
   },
   "file_extension": ".py",
   "mimetype": "text/x-python",
   "name": "python",
   "nbconvert_exporter": "python",
   "pygments_lexer": "ipython3",
   "version": "3.10.12"
  }
 },
 "nbformat": 4,
 "nbformat_minor": 2
}
