{
 "cells": [
  {
   "cell_type": "markdown",
   "metadata": {},
   "source": [
    "## Iris data\n",
    "\n",
    "Iris-blomsterdatasettet er et multivariat datasett introdusert av den britiske statistikeren og biologen Ronald Fisher i sin artikkel fra 1936. Det har blitt et populært dataset for å teste ut nye metoder. Datasettet inneholder 3 klasser, hvor hver klasse refererer til en type irisplante. Her utforsker vi datasettet med forskjellige visualiseringsmetoder. \n",
    "\n",
    "Som alltid laster vi først inn pakkene vi trenger. "
   ]
  },
  {
   "cell_type": "code",
   "execution_count": null,
   "metadata": {},
   "outputs": [],
   "source": [
    "import numpy as np\n",
    "import pandas as pd \n",
    "from sklearn.datasets import load_iris\n",
    "from sklearn.decomposition import PCA \n",
    "\n",
    "import plotly.express as px\n",
    "import plotly.graph_objects as go"
   ]
  },
  {
   "cell_type": "markdown",
   "metadata": {},
   "source": [
    "Så leser vi inn data og forbereder den til analysen. "
   ]
  },
  {
   "cell_type": "code",
   "execution_count": null,
   "metadata": {},
   "outputs": [],
   "source": [
    "# Read the file into a variable iris_data\n",
    "iris = load_iris()\n",
    "# print(iris)\n",
    "iris_data = pd.DataFrame(iris['data'], columns=iris['feature_names'])\n",
    "iris_labels = iris.target_names[iris['target']]\n",
    "iris_data[\"species\"] = iris_labels\n",
    "\n",
    "# Print the first 5 rows of the data\n",
    "iris_data.head()\n",
    "iris_data.tail()"
   ]
  },
  {
   "cell_type": "markdown",
   "metadata": {},
   "source": [
    "**En egenskap om gangen**:\n",
    "\n",
    "Først ser vi på en egenskap i datasettet om gangen. \n",
    "Lag et histogram av alle kolonner i datasettet. Tips: Bruk [`plotly.express.histogram`](https://plotly.com/python/histograms/). "
   ]
  },
  {
   "cell_type": "code",
   "execution_count": null,
   "metadata": {},
   "outputs": [],
   "source": [
    "# Histogramer\n",
    "for col in iris_data.columns:\n",
    "    fig = px.histogram(iris_data[col],\n",
    "                        x = col,\n",
    "                        histnorm='probability density',\n",
    "                        nbins=150\n",
    "                       )\n",
    "    \n",
    "    fig.show()"
   ]
  },
  {
   "cell_type": "markdown",
   "metadata": {},
   "source": [
    "Nå vil vi legge til en ekstra dimensjon ved å bruke farge. Fargelegg histogramene etter spesies. "
   ]
  },
  {
   "cell_type": "code",
   "execution_count": null,
   "metadata": {},
   "outputs": [],
   "source": [
    "# Histogramer farget etter spesies\n",
    "\n",
    "for col in iris_data.columns[:-2]:\n",
    "    fig = px.histogram(iris_data[col],\n",
    "                        x = col,\n",
    "                        histnorm='probability density',\n",
    "                        nbins=150,\n",
    "                        color = iris_data['species']\n",
    "                       )\n",
    "    \n",
    "    fig.show()"
   ]
  },
  {
   "cell_type": "markdown",
   "metadata": {},
   "source": [
    "Så skal vi se på tre egenskaper samtidig. Lag en figur med sepal width på x-aksen, sepal length på y-aksen, fargelagt etter type irisplante, der vi har et punkt for hver plante i datasettet. Tips: Bruk [`plotly.express.scatter`](https://plotly.com/python-api-reference/generated/plotly.express.scatter.html). "
   ]
  },
  {
   "cell_type": "code",
   "execution_count": null,
   "metadata": {},
   "outputs": [],
   "source": [
    "# Scatterplot\n",
    "fig = px.scatter(iris_data,\n",
    "                x=\"sepal width (cm)\", \n",
    "                y='sepal length (cm)',\n",
    "                color = iris_data['species']\n",
    "                )\n",
    "\n",
    "# fig.update_layout(font=dict(size=36),\n",
    "# template=\"simple_white\",\n",
    "# xaxis_title=\"BMI\",\n",
    "# yaxis_title=\"blood preasure\")\n",
    "\n",
    "fig.show()"
   ]
  },
  {
   "cell_type": "markdown",
   "metadata": {},
   "source": [
    "I stedet for en scatterplott vil vi noen ganger heller se på 2-dimensjonal tetthet. Lag en 2-dimensjonal tetthetsfigur (contour plot) med `sepal width (cm)` på x-aksen og `sepal length (cm)` på y-aksen. Tips: Bruk [`plotly.express.density_contour`](https://plotly.com/python-api-reference/generated/plotly.express.density_contour.html). "
   ]
  },
  {
   "cell_type": "code",
   "execution_count": null,
   "metadata": {},
   "outputs": [],
   "source": [
    "# Tetthet\n",
    "fig = px.density_contour(iris_data,\n",
    "                x=\"sepal width (cm)\", \n",
    "                y='sepal length (cm)',\n",
    "                color = iris_data['species']\n",
    "                )\n",
    "\n",
    "fig.show()"
   ]
  },
  {
   "cell_type": "markdown",
   "metadata": {},
   "source": [
    "Det blir litt enklere å lese hvis vi ikke bare har konturer, men fargelegger etter tetthet. For å gjøre det, kan vi bruke [`plotly.graph_objects.Figure.update_traces`](https://plotly.com/python-api-reference/generated/plotly.graph_objects.Figure.html#plotly.graph_objects.Figure.update_traces)-metoden med argumentene `contours_coloring=\"fill\"` og for eksempel `colorscale = 'Blues'`. De argumentene kan være vanskelig å finne i dokumentasjonen og det er ofte nødvendig å søke på nettet for å finne slike løsninger. "
   ]
  },
  {
   "cell_type": "code",
   "execution_count": null,
   "metadata": {},
   "outputs": [],
   "source": [
    "# Tetthet\n",
    "fig = px.density_contour(iris_data,\n",
    "                x=\"sepal width (cm)\", \n",
    "                y='sepal length (cm)',\n",
    "                color = iris_data['species']\n",
    "                )\n",
    "\n",
    "fig.update_traces(contours_coloring=\"fill\", \n",
    "                  colorscale = 'Blues')\n",
    "fig.show()"
   ]
  },
  {
   "cell_type": "markdown",
   "metadata": {},
   "source": [
    "Til slutt ser vi på to metoder for å se på alle variablene samtidig. Regn ut de første to prinsipale komponenter PC1 og PC2. Så lag en scatterfigur med PC1 på x-aksen, PC2 på y-aksen, fargelagt etter type irisplante. Tips: Bruk [`sklearn.decomposition.PCA`](https://scikit-learn.org/stable/modules/generated/sklearn.decomposition.PCA.html). Som vi har sett tidligere er sklearn sine metoder er alle bygget opp på en lignende måte. Først må vi lage en modell (`init`-metode), så må vi tilpasse modellen til treningsdata (`fit`-metode) og til slutt kan vi bruke den til å predikere (`predict`-metode) for nye data eller transformere (`transform`-metode) nye data. "
   ]
  },
  {
   "cell_type": "code",
   "execution_count": null,
   "metadata": {
    "tags": [
     "solution"
    ]
   },
   "outputs": [],
   "source": [
    "# PCA \n",
    "pca = PCA(n_components=2)\n",
    "pca.fit(iris_data)\n",
    "pca_df = pd.DataFrame(pca.transform(iris_data.drop(\"species\")), \n",
    "                      columns=['PC1', 'PC2'])\n",
    "\n",
    "print(pca_df)\n",
    "\n",
    "# Scatterplot\n",
    "fig = px.scatter(data_frame=pca_df, \n",
    "                 x='PC1', \n",
    "                 y='PC2', \n",
    "                 color=iris_labels,\n",
    "                 labels={'color':'Type'})\n",
    "fig.show()"
   ]
  },
  {
   "cell_type": "markdown",
   "metadata": {},
   "source": [
    "Hvis vi har så få koordinater som her kan det være et alternativ til PCA å bruke parallele koordinater. Bruk parallele koordinater for å visualisere iris data. Tips: Bruk [`plotly.express.parallel_coordinates`](https://plotly.com/python-api-reference/generated/plotly.express.parallel_coordinates.html). "
   ]
  },
  {
   "cell_type": "code",
   "execution_count": null,
   "metadata": {},
   "outputs": [],
   "source": [
    "# Parallele koordinater\n",
    "fig = px.parallel_coordinates(___)\n",
    "\n",
    "fig.show()"
   ]
  },
  {
   "cell_type": "markdown",
   "metadata": {},
   "source": [
    "Fargelegg figuren med parallele koordinater etter type irisplante. Merk at [`plotly.express.parallel_coordinates`](https://plotly.com/python-api-reference/generated/plotly.express.parallel_coordinates.html) ikke er tenkt for å brukes med kategoriske farger. For å få det til likevel, så kan vi bruke en kontinuerlig fargeskala som er stykkevis konstant. Vi må også bruke en numerisk variabel for å fargelegge etter i stedet for den kontinuerlige variablen vi har brukt til nå. "
   ]
  },
  {
   "cell_type": "code",
   "execution_count": null,
   "metadata": {},
   "outputs": [],
   "source": [
    "# Parallele koordinater\n",
    "fig = px.parallel_coordinates(___,\n",
    "                              color=___, # må være numerisk\n",
    "                              color_continuous_scale=[(0.00, \"#8DD3C7\"),   (0.33, \"#8DD3C7\"),\n",
    "                                                      (0.33, \"#FFFFB3\"), (0.67, \"#FFFFB3\"),\n",
    "                                                      (0.67, \"#BEBADA\"),  (1.00, \"#BEBADA\")]\n",
    "                             )\n",
    "fig.update_layout(coloraxis_colorbar=dict(\n",
    "    title=\"Spesies\", \n",
    "    tickvals=[0.33, 1, 1.67], \n",
    "    ticktext=iris.target_names\n",
    "))\n",
    "\n",
    "fig.show()"
   ]
  },
  {
   "cell_type": "markdown",
   "metadata": {},
   "source": [
    "## Museum data\n",
    "\n",
    "Museum datasettet (data/museum.csv) inneholder data om museumsbesøk mellom januar 2014 og juni 2021. Data er hentet fra [Los Angeles open data](https://data.lacity.org/Arts-Culture/Museum-Visitors/trxm-jn3c). Målet er å lage en figur av utviklingen av museumsbesøk de siste 7 årene. \n",
    "\n",
    "Begynn ved å lese inn data og se på de første radene. "
   ]
  },
  {
   "cell_type": "code",
   "execution_count": 11,
   "metadata": {},
   "outputs": [
    {
     "data": {
      "text/html": [
       "<div>\n",
       "<style scoped>\n",
       "    .dataframe tbody tr th:only-of-type {\n",
       "        vertical-align: middle;\n",
       "    }\n",
       "\n",
       "    .dataframe tbody tr th {\n",
       "        vertical-align: top;\n",
       "    }\n",
       "\n",
       "    .dataframe thead th {\n",
       "        text-align: right;\n",
       "    }\n",
       "</style>\n",
       "<table border=\"1\" class=\"dataframe\">\n",
       "  <thead>\n",
       "    <tr style=\"text-align: right;\">\n",
       "      <th></th>\n",
       "      <th>Month</th>\n",
       "      <th>America Tropical Interpretive Center</th>\n",
       "      <th>Avila Adobe</th>\n",
       "      <th>Chinese American Museum</th>\n",
       "      <th>Gateway to Nature Center</th>\n",
       "      <th>Firehouse Museum</th>\n",
       "      <th>Hellman Quon</th>\n",
       "      <th>IAMLA</th>\n",
       "      <th>Pico House</th>\n",
       "      <th>Visitor Center/ El Tranquilo Gallery</th>\n",
       "      <th>Museum of Social Justice</th>\n",
       "      <th>Biscailuz Gallery/ PK Outdoor Exhibit</th>\n",
       "    </tr>\n",
       "  </thead>\n",
       "  <tbody>\n",
       "    <tr>\n",
       "      <th>0</th>\n",
       "      <td>01/01/2014 12:00:00 AM</td>\n",
       "      <td>6602</td>\n",
       "      <td>24778</td>\n",
       "      <td>1581</td>\n",
       "      <td>NaN</td>\n",
       "      <td>4486</td>\n",
       "      <td>0.0</td>\n",
       "      <td>NaN</td>\n",
       "      <td>2204.0</td>\n",
       "      <td>2961.0</td>\n",
       "      <td>NaN</td>\n",
       "      <td>NaN</td>\n",
       "    </tr>\n",
       "    <tr>\n",
       "      <th>1</th>\n",
       "      <td>02/01/2014 12:00:00 AM</td>\n",
       "      <td>5029</td>\n",
       "      <td>18976</td>\n",
       "      <td>1785</td>\n",
       "      <td>NaN</td>\n",
       "      <td>4172</td>\n",
       "      <td>0.0</td>\n",
       "      <td>NaN</td>\n",
       "      <td>1330.0</td>\n",
       "      <td>2276.0</td>\n",
       "      <td>NaN</td>\n",
       "      <td>NaN</td>\n",
       "    </tr>\n",
       "    <tr>\n",
       "      <th>2</th>\n",
       "      <td>03/01/2014 12:00:00 AM</td>\n",
       "      <td>8129</td>\n",
       "      <td>25231</td>\n",
       "      <td>3229</td>\n",
       "      <td>NaN</td>\n",
       "      <td>7082</td>\n",
       "      <td>70.0</td>\n",
       "      <td>NaN</td>\n",
       "      <td>4320.0</td>\n",
       "      <td>3116.0</td>\n",
       "      <td>NaN</td>\n",
       "      <td>NaN</td>\n",
       "    </tr>\n",
       "    <tr>\n",
       "      <th>3</th>\n",
       "      <td>04/01/2014 12:00:00 AM</td>\n",
       "      <td>2824</td>\n",
       "      <td>26989</td>\n",
       "      <td>2129</td>\n",
       "      <td>NaN</td>\n",
       "      <td>6756</td>\n",
       "      <td>250.0</td>\n",
       "      <td>NaN</td>\n",
       "      <td>3277.0</td>\n",
       "      <td>2808.0</td>\n",
       "      <td>NaN</td>\n",
       "      <td>NaN</td>\n",
       "    </tr>\n",
       "    <tr>\n",
       "      <th>4</th>\n",
       "      <td>05/01/2014 12:00:00 AM</td>\n",
       "      <td>10694</td>\n",
       "      <td>36883</td>\n",
       "      <td>3676</td>\n",
       "      <td>NaN</td>\n",
       "      <td>10858</td>\n",
       "      <td>135.0</td>\n",
       "      <td>NaN</td>\n",
       "      <td>4122.0</td>\n",
       "      <td>3987.0</td>\n",
       "      <td>NaN</td>\n",
       "      <td>NaN</td>\n",
       "    </tr>\n",
       "  </tbody>\n",
       "</table>\n",
       "</div>"
      ],
      "text/plain": [
       "                    Month  America Tropical Interpretive Center  Avila Adobe  \\\n",
       "0  01/01/2014 12:00:00 AM                                  6602        24778   \n",
       "1  02/01/2014 12:00:00 AM                                  5029        18976   \n",
       "2  03/01/2014 12:00:00 AM                                  8129        25231   \n",
       "3  04/01/2014 12:00:00 AM                                  2824        26989   \n",
       "4  05/01/2014 12:00:00 AM                                 10694        36883   \n",
       "\n",
       "   Chinese American Museum  Gateway to Nature Center  Firehouse Museum  \\\n",
       "0                     1581                       NaN              4486   \n",
       "1                     1785                       NaN              4172   \n",
       "2                     3229                       NaN              7082   \n",
       "3                     2129                       NaN              6756   \n",
       "4                     3676                       NaN             10858   \n",
       "\n",
       "   Hellman Quon  IAMLA  Pico House   Visitor Center/ El Tranquilo Gallery  \\\n",
       "0           0.0    NaN       2204.0                                2961.0   \n",
       "1           0.0    NaN       1330.0                                2276.0   \n",
       "2          70.0    NaN       4320.0                                3116.0   \n",
       "3         250.0    NaN       3277.0                                2808.0   \n",
       "4         135.0    NaN       4122.0                                3987.0   \n",
       "\n",
       "   Museum of Social Justice  Biscailuz Gallery/ PK Outdoor Exhibit  \n",
       "0                       NaN                                    NaN  \n",
       "1                       NaN                                    NaN  \n",
       "2                       NaN                                    NaN  \n",
       "3                       NaN                                    NaN  \n",
       "4                       NaN                                    NaN  "
      ]
     },
     "execution_count": 11,
     "metadata": {},
     "output_type": "execute_result"
    }
   ],
   "source": [
    "import pandas as pd\n",
    "import plotly.express as px\n",
    "museum_data = pd.read_csv(\"data/museum.csv\")\n",
    "museum_data.head()"
   ]
  },
  {
   "cell_type": "markdown",
   "metadata": {},
   "source": [
    "Ved bruk av kolonnen `Month`, lag en ny kolonne `Date` som er har `dtype` `pandas.datetime`. Fjern deretter kolonnen `Month`. "
   ]
  },
  {
   "cell_type": "code",
   "execution_count": 12,
   "metadata": {},
   "outputs": [
    {
     "name": "stderr",
     "output_type": "stream",
     "text": [
      "/tmp/ipykernel_31832/3975058367.py:2: UserWarning: Could not infer format, so each element will be parsed individually, falling back to `dateutil`. To ensure parsing is consistent and as-expected, please specify a format.\n",
      "  museum_data['Date'] = pd.to_datetime(museum_data[\"Month\"])\n"
     ]
    },
    {
     "data": {
      "text/html": [
       "<div>\n",
       "<style scoped>\n",
       "    .dataframe tbody tr th:only-of-type {\n",
       "        vertical-align: middle;\n",
       "    }\n",
       "\n",
       "    .dataframe tbody tr th {\n",
       "        vertical-align: top;\n",
       "    }\n",
       "\n",
       "    .dataframe thead th {\n",
       "        text-align: right;\n",
       "    }\n",
       "</style>\n",
       "<table border=\"1\" class=\"dataframe\">\n",
       "  <thead>\n",
       "    <tr style=\"text-align: right;\">\n",
       "      <th></th>\n",
       "      <th>America Tropical Interpretive Center</th>\n",
       "      <th>Avila Adobe</th>\n",
       "      <th>Chinese American Museum</th>\n",
       "      <th>Gateway to Nature Center</th>\n",
       "      <th>Firehouse Museum</th>\n",
       "      <th>Hellman Quon</th>\n",
       "      <th>IAMLA</th>\n",
       "      <th>Pico House</th>\n",
       "      <th>Visitor Center/ El Tranquilo Gallery</th>\n",
       "      <th>Museum of Social Justice</th>\n",
       "      <th>Biscailuz Gallery/ PK Outdoor Exhibit</th>\n",
       "      <th>Date</th>\n",
       "    </tr>\n",
       "  </thead>\n",
       "  <tbody>\n",
       "    <tr>\n",
       "      <th>0</th>\n",
       "      <td>6602</td>\n",
       "      <td>24778</td>\n",
       "      <td>1581</td>\n",
       "      <td>NaN</td>\n",
       "      <td>4486</td>\n",
       "      <td>0.0</td>\n",
       "      <td>NaN</td>\n",
       "      <td>2204.0</td>\n",
       "      <td>2961.0</td>\n",
       "      <td>NaN</td>\n",
       "      <td>NaN</td>\n",
       "      <td>2014-01-01</td>\n",
       "    </tr>\n",
       "    <tr>\n",
       "      <th>1</th>\n",
       "      <td>5029</td>\n",
       "      <td>18976</td>\n",
       "      <td>1785</td>\n",
       "      <td>NaN</td>\n",
       "      <td>4172</td>\n",
       "      <td>0.0</td>\n",
       "      <td>NaN</td>\n",
       "      <td>1330.0</td>\n",
       "      <td>2276.0</td>\n",
       "      <td>NaN</td>\n",
       "      <td>NaN</td>\n",
       "      <td>2014-02-01</td>\n",
       "    </tr>\n",
       "    <tr>\n",
       "      <th>2</th>\n",
       "      <td>8129</td>\n",
       "      <td>25231</td>\n",
       "      <td>3229</td>\n",
       "      <td>NaN</td>\n",
       "      <td>7082</td>\n",
       "      <td>70.0</td>\n",
       "      <td>NaN</td>\n",
       "      <td>4320.0</td>\n",
       "      <td>3116.0</td>\n",
       "      <td>NaN</td>\n",
       "      <td>NaN</td>\n",
       "      <td>2014-03-01</td>\n",
       "    </tr>\n",
       "    <tr>\n",
       "      <th>3</th>\n",
       "      <td>2824</td>\n",
       "      <td>26989</td>\n",
       "      <td>2129</td>\n",
       "      <td>NaN</td>\n",
       "      <td>6756</td>\n",
       "      <td>250.0</td>\n",
       "      <td>NaN</td>\n",
       "      <td>3277.0</td>\n",
       "      <td>2808.0</td>\n",
       "      <td>NaN</td>\n",
       "      <td>NaN</td>\n",
       "      <td>2014-04-01</td>\n",
       "    </tr>\n",
       "    <tr>\n",
       "      <th>4</th>\n",
       "      <td>10694</td>\n",
       "      <td>36883</td>\n",
       "      <td>3676</td>\n",
       "      <td>NaN</td>\n",
       "      <td>10858</td>\n",
       "      <td>135.0</td>\n",
       "      <td>NaN</td>\n",
       "      <td>4122.0</td>\n",
       "      <td>3987.0</td>\n",
       "      <td>NaN</td>\n",
       "      <td>NaN</td>\n",
       "      <td>2014-05-01</td>\n",
       "    </tr>\n",
       "  </tbody>\n",
       "</table>\n",
       "</div>"
      ],
      "text/plain": [
       "   America Tropical Interpretive Center  Avila Adobe  Chinese American Museum  \\\n",
       "0                                  6602        24778                     1581   \n",
       "1                                  5029        18976                     1785   \n",
       "2                                  8129        25231                     3229   \n",
       "3                                  2824        26989                     2129   \n",
       "4                                 10694        36883                     3676   \n",
       "\n",
       "   Gateway to Nature Center  Firehouse Museum  Hellman Quon  IAMLA  \\\n",
       "0                       NaN              4486           0.0    NaN   \n",
       "1                       NaN              4172           0.0    NaN   \n",
       "2                       NaN              7082          70.0    NaN   \n",
       "3                       NaN              6756         250.0    NaN   \n",
       "4                       NaN             10858         135.0    NaN   \n",
       "\n",
       "   Pico House   Visitor Center/ El Tranquilo Gallery  \\\n",
       "0       2204.0                                2961.0   \n",
       "1       1330.0                                2276.0   \n",
       "2       4320.0                                3116.0   \n",
       "3       3277.0                                2808.0   \n",
       "4       4122.0                                3987.0   \n",
       "\n",
       "   Museum of Social Justice  Biscailuz Gallery/ PK Outdoor Exhibit       Date  \n",
       "0                       NaN                                    NaN 2014-01-01  \n",
       "1                       NaN                                    NaN 2014-02-01  \n",
       "2                       NaN                                    NaN 2014-03-01  \n",
       "3                       NaN                                    NaN 2014-04-01  \n",
       "4                       NaN                                    NaN 2014-05-01  "
      ]
     },
     "execution_count": 12,
     "metadata": {},
     "output_type": "execute_result"
    }
   ],
   "source": [
    "# lag kolonnen Date\n",
    "museum_data['Date'] = pd.to_datetime(museum_data[\"Month\"])\n",
    "\n",
    "# print(museum_data.head())\n",
    "# fjern kolonnen Month\n",
    "museum_data.drop(\"Month\",axis=1,inplace=True)\n",
    "\n",
    "museum_data.head()"
   ]
  },
  {
   "cell_type": "markdown",
   "metadata": {},
   "source": [
    "Forandre data sånn at du har tre kolonner med dato, museum navn og antal besøkende. Tips: Bruk [`pandas.melt`](https://pandas.pydata.org/docs/reference/api/pandas.melt.html). Sorter deretter etter dato og museum navn. "
   ]
  },
  {
   "cell_type": "code",
   "execution_count": 13,
   "metadata": {},
   "outputs": [
    {
     "data": {
      "text/html": [
       "<div>\n",
       "<style scoped>\n",
       "    .dataframe tbody tr th:only-of-type {\n",
       "        vertical-align: middle;\n",
       "    }\n",
       "\n",
       "    .dataframe tbody tr th {\n",
       "        vertical-align: top;\n",
       "    }\n",
       "\n",
       "    .dataframe thead th {\n",
       "        text-align: right;\n",
       "    }\n",
       "</style>\n",
       "<table border=\"1\" class=\"dataframe\">\n",
       "  <thead>\n",
       "    <tr style=\"text-align: right;\">\n",
       "      <th></th>\n",
       "      <th>Date</th>\n",
       "      <th>variable</th>\n",
       "      <th>value</th>\n",
       "    </tr>\n",
       "  </thead>\n",
       "  <tbody>\n",
       "    <tr>\n",
       "      <th>989</th>\n",
       "      <td>2021-06-01</td>\n",
       "      <td>Biscailuz Gallery/ PK Outdoor Exhibit</td>\n",
       "      <td>0.0</td>\n",
       "    </tr>\n",
       "    <tr>\n",
       "      <th>436</th>\n",
       "      <td>2020-05-01</td>\n",
       "      <td>Firehouse Museum</td>\n",
       "      <td>0.0</td>\n",
       "    </tr>\n",
       "    <tr>\n",
       "      <th>435</th>\n",
       "      <td>2020-04-01</td>\n",
       "      <td>Firehouse Museum</td>\n",
       "      <td>0.0</td>\n",
       "    </tr>\n",
       "    <tr>\n",
       "      <th>988</th>\n",
       "      <td>2021-05-01</td>\n",
       "      <td>Biscailuz Gallery/ PK Outdoor Exhibit</td>\n",
       "      <td>0.0</td>\n",
       "    </tr>\n",
       "    <tr>\n",
       "      <th>705</th>\n",
       "      <td>2020-04-01</td>\n",
       "      <td>Pico House</td>\n",
       "      <td>0.0</td>\n",
       "    </tr>\n",
       "    <tr>\n",
       "      <th>...</th>\n",
       "      <td>...</td>\n",
       "      <td>...</td>\n",
       "      <td>...</td>\n",
       "    </tr>\n",
       "    <tr>\n",
       "      <th>976</th>\n",
       "      <td>2020-05-01</td>\n",
       "      <td>Biscailuz Gallery/ PK Outdoor Exhibit</td>\n",
       "      <td>NaN</td>\n",
       "    </tr>\n",
       "    <tr>\n",
       "      <th>977</th>\n",
       "      <td>2020-06-01</td>\n",
       "      <td>Biscailuz Gallery/ PK Outdoor Exhibit</td>\n",
       "      <td>NaN</td>\n",
       "    </tr>\n",
       "    <tr>\n",
       "      <th>978</th>\n",
       "      <td>2020-07-01</td>\n",
       "      <td>Biscailuz Gallery/ PK Outdoor Exhibit</td>\n",
       "      <td>NaN</td>\n",
       "    </tr>\n",
       "    <tr>\n",
       "      <th>979</th>\n",
       "      <td>2020-08-01</td>\n",
       "      <td>Biscailuz Gallery/ PK Outdoor Exhibit</td>\n",
       "      <td>NaN</td>\n",
       "    </tr>\n",
       "    <tr>\n",
       "      <th>980</th>\n",
       "      <td>2020-09-01</td>\n",
       "      <td>Biscailuz Gallery/ PK Outdoor Exhibit</td>\n",
       "      <td>NaN</td>\n",
       "    </tr>\n",
       "  </tbody>\n",
       "</table>\n",
       "<p>990 rows × 3 columns</p>\n",
       "</div>"
      ],
      "text/plain": [
       "          Date                               variable  value\n",
       "989 2021-06-01  Biscailuz Gallery/ PK Outdoor Exhibit    0.0\n",
       "436 2020-05-01                       Firehouse Museum    0.0\n",
       "435 2020-04-01                       Firehouse Museum    0.0\n",
       "988 2021-05-01  Biscailuz Gallery/ PK Outdoor Exhibit    0.0\n",
       "705 2020-04-01                            Pico House     0.0\n",
       "..         ...                                    ...    ...\n",
       "976 2020-05-01  Biscailuz Gallery/ PK Outdoor Exhibit    NaN\n",
       "977 2020-06-01  Biscailuz Gallery/ PK Outdoor Exhibit    NaN\n",
       "978 2020-07-01  Biscailuz Gallery/ PK Outdoor Exhibit    NaN\n",
       "979 2020-08-01  Biscailuz Gallery/ PK Outdoor Exhibit    NaN\n",
       "980 2020-09-01  Biscailuz Gallery/ PK Outdoor Exhibit    NaN\n",
       "\n",
       "[990 rows x 3 columns]"
      ]
     },
     "execution_count": 13,
     "metadata": {},
     "output_type": "execute_result"
    }
   ],
   "source": [
    "# omformater data\n",
    "# museum_reshaped = pd.melt(museum_data,id_vars=[\"Date\"], value_vars = [\"IAMLA\",])\n",
    "museum_copy = museum_data\n",
    "mueseum_cols = museum_copy.drop(\"Date\",axis=1).columns\n",
    "museum_reshaped = pd.melt(museum_data,id_vars=[\"Date\"], value_vars = mueseum_cols)\n",
    "# sorter \n",
    "museum_reshaped[\"value\"] = museum_reshaped[\"value\"].astype(float) #litt usikker, rart at 6000 kommer før 10000\n",
    "museum_reshaped.sort_values(\"value\")"
   ]
  },
  {
   "cell_type": "markdown",
   "metadata": {},
   "source": [
    "Se på de første radene av det nye datasettet. "
   ]
  },
  {
   "cell_type": "code",
   "execution_count": 14,
   "metadata": {},
   "outputs": [
    {
     "data": {
      "text/html": [
       "<div>\n",
       "<style scoped>\n",
       "    .dataframe tbody tr th:only-of-type {\n",
       "        vertical-align: middle;\n",
       "    }\n",
       "\n",
       "    .dataframe tbody tr th {\n",
       "        vertical-align: top;\n",
       "    }\n",
       "\n",
       "    .dataframe thead th {\n",
       "        text-align: right;\n",
       "    }\n",
       "</style>\n",
       "<table border=\"1\" class=\"dataframe\">\n",
       "  <thead>\n",
       "    <tr style=\"text-align: right;\">\n",
       "      <th></th>\n",
       "      <th>Date</th>\n",
       "      <th>variable</th>\n",
       "      <th>value</th>\n",
       "    </tr>\n",
       "  </thead>\n",
       "  <tbody>\n",
       "    <tr>\n",
       "      <th>0</th>\n",
       "      <td>2014-01-01</td>\n",
       "      <td>America Tropical Interpretive Center</td>\n",
       "      <td>6602.0</td>\n",
       "    </tr>\n",
       "    <tr>\n",
       "      <th>1</th>\n",
       "      <td>2014-02-01</td>\n",
       "      <td>America Tropical Interpretive Center</td>\n",
       "      <td>5029.0</td>\n",
       "    </tr>\n",
       "    <tr>\n",
       "      <th>2</th>\n",
       "      <td>2014-03-01</td>\n",
       "      <td>America Tropical Interpretive Center</td>\n",
       "      <td>8129.0</td>\n",
       "    </tr>\n",
       "    <tr>\n",
       "      <th>3</th>\n",
       "      <td>2014-04-01</td>\n",
       "      <td>America Tropical Interpretive Center</td>\n",
       "      <td>2824.0</td>\n",
       "    </tr>\n",
       "    <tr>\n",
       "      <th>4</th>\n",
       "      <td>2014-05-01</td>\n",
       "      <td>America Tropical Interpretive Center</td>\n",
       "      <td>10694.0</td>\n",
       "    </tr>\n",
       "  </tbody>\n",
       "</table>\n",
       "</div>"
      ],
      "text/plain": [
       "        Date                              variable    value\n",
       "0 2014-01-01  America Tropical Interpretive Center   6602.0\n",
       "1 2014-02-01  America Tropical Interpretive Center   5029.0\n",
       "2 2014-03-01  America Tropical Interpretive Center   8129.0\n",
       "3 2014-04-01  America Tropical Interpretive Center   2824.0\n",
       "4 2014-05-01  America Tropical Interpretive Center  10694.0"
      ]
     },
     "execution_count": 14,
     "metadata": {},
     "output_type": "execute_result"
    }
   ],
   "source": [
    "museum_reshaped.head()"
   ]
  },
  {
   "cell_type": "markdown",
   "metadata": {},
   "source": [
    "Velg ut en informativ figurtype og lag en figur som viser utviklingen av museumsbesøk i datasettet. "
   ]
  },
  {
   "cell_type": "code",
   "execution_count": 17,
   "metadata": {},
   "outputs": [
    {
     "ename": "ValueError",
     "evalue": "Plotly Express cannot process wide-form data with columns of different type.",
     "output_type": "error",
     "traceback": [
      "\u001b[0;31m---------------------------------------------------------------------------\u001b[0m",
      "\u001b[0;31mValueError\u001b[0m                                Traceback (most recent call last)",
      "\u001b[1;32m/home/henrik/INF161_H23/labs/lab-3-visualisering.ipynb Cell 30\u001b[0m line \u001b[0;36m6\n\u001b[1;32m      <a href='vscode-notebook-cell://wsl%2Bubuntu-22.04/home/henrik/INF161_H23/labs/lab-3-visualisering.ipynb#X41sdnNjb2RlLXJlbW90ZQ%3D%3D?line=0'>1</a>\u001b[0m \u001b[39m# Visualisering\u001b[39;00m\n\u001b[0;32m----> <a href='vscode-notebook-cell://wsl%2Bubuntu-22.04/home/henrik/INF161_H23/labs/lab-3-visualisering.ipynb#X41sdnNjb2RlLXJlbW90ZQ%3D%3D?line=5'>6</a>\u001b[0m fig \u001b[39m=\u001b[39m px\u001b[39m.\u001b[39;49mhistogram(museum_reshaped,\n\u001b[1;32m      <a href='vscode-notebook-cell://wsl%2Bubuntu-22.04/home/henrik/INF161_H23/labs/lab-3-visualisering.ipynb#X41sdnNjb2RlLXJlbW90ZQ%3D%3D?line=6'>7</a>\u001b[0m                     histnorm\u001b[39m=\u001b[39;49m\u001b[39m'\u001b[39;49m\u001b[39mprobability density\u001b[39;49m\u001b[39m'\u001b[39;49m,\n\u001b[1;32m      <a href='vscode-notebook-cell://wsl%2Bubuntu-22.04/home/henrik/INF161_H23/labs/lab-3-visualisering.ipynb#X41sdnNjb2RlLXJlbW90ZQ%3D%3D?line=7'>8</a>\u001b[0m                     nbins\u001b[39m=\u001b[39;49m\u001b[39m150\u001b[39;49m,\n\u001b[1;32m      <a href='vscode-notebook-cell://wsl%2Bubuntu-22.04/home/henrik/INF161_H23/labs/lab-3-visualisering.ipynb#X41sdnNjb2RlLXJlbW90ZQ%3D%3D?line=8'>9</a>\u001b[0m                     color \u001b[39m=\u001b[39;49m museum_reshaped[\u001b[39m\"\u001b[39;49m\u001b[39mvariable\u001b[39;49m\u001b[39m\"\u001b[39;49m]\n\u001b[1;32m     <a href='vscode-notebook-cell://wsl%2Bubuntu-22.04/home/henrik/INF161_H23/labs/lab-3-visualisering.ipynb#X41sdnNjb2RlLXJlbW90ZQ%3D%3D?line=9'>10</a>\u001b[0m                     )\n\u001b[1;32m     <a href='vscode-notebook-cell://wsl%2Bubuntu-22.04/home/henrik/INF161_H23/labs/lab-3-visualisering.ipynb#X41sdnNjb2RlLXJlbW90ZQ%3D%3D?line=11'>12</a>\u001b[0m fig\u001b[39m.\u001b[39mshow()\n",
      "File \u001b[0;32m~/.local/lib/python3.10/site-packages/plotly/express/_chart_types.py:480\u001b[0m, in \u001b[0;36mhistogram\u001b[0;34m(data_frame, x, y, color, pattern_shape, facet_row, facet_col, facet_col_wrap, facet_row_spacing, facet_col_spacing, hover_name, hover_data, animation_frame, animation_group, category_orders, labels, color_discrete_sequence, color_discrete_map, pattern_shape_sequence, pattern_shape_map, marginal, opacity, orientation, barmode, barnorm, histnorm, log_x, log_y, range_x, range_y, histfunc, cumulative, nbins, text_auto, title, template, width, height)\u001b[0m\n\u001b[1;32m    434\u001b[0m \u001b[39mdef\u001b[39;00m \u001b[39mhistogram\u001b[39m(\n\u001b[1;32m    435\u001b[0m     data_frame\u001b[39m=\u001b[39m\u001b[39mNone\u001b[39;00m,\n\u001b[1;32m    436\u001b[0m     x\u001b[39m=\u001b[39m\u001b[39mNone\u001b[39;00m,\n\u001b[0;32m   (...)\u001b[0m\n\u001b[1;32m    472\u001b[0m     height\u001b[39m=\u001b[39m\u001b[39mNone\u001b[39;00m,\n\u001b[1;32m    473\u001b[0m ) \u001b[39m-\u001b[39m\u001b[39m>\u001b[39m go\u001b[39m.\u001b[39mFigure:\n\u001b[1;32m    474\u001b[0m \u001b[39m    \u001b[39m\u001b[39m\"\"\"\u001b[39;00m\n\u001b[1;32m    475\u001b[0m \u001b[39m    In a histogram, rows of `data_frame` are grouped together into a\u001b[39;00m\n\u001b[1;32m    476\u001b[0m \u001b[39m    rectangular mark to visualize the 1D distribution of an aggregate\u001b[39;00m\n\u001b[1;32m    477\u001b[0m \u001b[39m    function `histfunc` (e.g. the count or sum) of the value `y` (or `x` if\u001b[39;00m\n\u001b[1;32m    478\u001b[0m \u001b[39m    `orientation` is `'h'`).\u001b[39;00m\n\u001b[1;32m    479\u001b[0m \u001b[39m    \"\"\"\u001b[39;00m\n\u001b[0;32m--> 480\u001b[0m     \u001b[39mreturn\u001b[39;00m make_figure(\n\u001b[1;32m    481\u001b[0m         args\u001b[39m=\u001b[39;49m\u001b[39mlocals\u001b[39;49m(),\n\u001b[1;32m    482\u001b[0m         constructor\u001b[39m=\u001b[39;49mgo\u001b[39m.\u001b[39;49mHistogram,\n\u001b[1;32m    483\u001b[0m         trace_patch\u001b[39m=\u001b[39;49m\u001b[39mdict\u001b[39;49m(\n\u001b[1;32m    484\u001b[0m             histnorm\u001b[39m=\u001b[39;49mhistnorm,\n\u001b[1;32m    485\u001b[0m             histfunc\u001b[39m=\u001b[39;49mhistfunc,\n\u001b[1;32m    486\u001b[0m             cumulative\u001b[39m=\u001b[39;49m\u001b[39mdict\u001b[39;49m(enabled\u001b[39m=\u001b[39;49mcumulative),\n\u001b[1;32m    487\u001b[0m         ),\n\u001b[1;32m    488\u001b[0m         layout_patch\u001b[39m=\u001b[39;49m\u001b[39mdict\u001b[39;49m(barmode\u001b[39m=\u001b[39;49mbarmode, barnorm\u001b[39m=\u001b[39;49mbarnorm),\n\u001b[1;32m    489\u001b[0m     )\n",
      "File \u001b[0;32m~/.local/lib/python3.10/site-packages/plotly/express/_core.py:2076\u001b[0m, in \u001b[0;36mmake_figure\u001b[0;34m(args, constructor, trace_patch, layout_patch)\u001b[0m\n\u001b[1;32m   2073\u001b[0m layout_patch \u001b[39m=\u001b[39m layout_patch \u001b[39mor\u001b[39;00m {}\n\u001b[1;32m   2074\u001b[0m apply_default_cascade(args)\n\u001b[0;32m-> 2076\u001b[0m args \u001b[39m=\u001b[39m build_dataframe(args, constructor)\n\u001b[1;32m   2077\u001b[0m \u001b[39mif\u001b[39;00m constructor \u001b[39min\u001b[39;00m [go\u001b[39m.\u001b[39mTreemap, go\u001b[39m.\u001b[39mSunburst, go\u001b[39m.\u001b[39mIcicle] \u001b[39mand\u001b[39;00m args[\u001b[39m\"\u001b[39m\u001b[39mpath\u001b[39m\u001b[39m\"\u001b[39m] \u001b[39mis\u001b[39;00m \u001b[39mnot\u001b[39;00m \u001b[39mNone\u001b[39;00m:\n\u001b[1;32m   2078\u001b[0m     args \u001b[39m=\u001b[39m process_dataframe_hierarchy(args)\n",
      "File \u001b[0;32m~/.local/lib/python3.10/site-packages/plotly/express/_core.py:1532\u001b[0m, in \u001b[0;36mbuild_dataframe\u001b[0;34m(args, constructor)\u001b[0m\n\u001b[1;32m   1530\u001b[0m         dtype \u001b[39m=\u001b[39m v_dtype\n\u001b[1;32m   1531\u001b[0m     \u001b[39melif\u001b[39;00m dtype \u001b[39m!=\u001b[39m v_dtype:\n\u001b[0;32m-> 1532\u001b[0m         \u001b[39mraise\u001b[39;00m \u001b[39mValueError\u001b[39;00m(\n\u001b[1;32m   1533\u001b[0m             \u001b[39m\"\u001b[39m\u001b[39mPlotly Express cannot process wide-form data with columns of different type.\u001b[39m\u001b[39m\"\u001b[39m\n\u001b[1;32m   1534\u001b[0m         )\n\u001b[1;32m   1535\u001b[0m df_output \u001b[39m=\u001b[39m df_output\u001b[39m.\u001b[39mmelt(\n\u001b[1;32m   1536\u001b[0m     id_vars\u001b[39m=\u001b[39mwide_id_vars,\n\u001b[1;32m   1537\u001b[0m     value_vars\u001b[39m=\u001b[39mwide_value_vars,\n\u001b[1;32m   1538\u001b[0m     var_name\u001b[39m=\u001b[39mvar_name,\n\u001b[1;32m   1539\u001b[0m     value_name\u001b[39m=\u001b[39mvalue_name,\n\u001b[1;32m   1540\u001b[0m )\n\u001b[1;32m   1541\u001b[0m \u001b[39massert\u001b[39;00m \u001b[39mlen\u001b[39m(df_output\u001b[39m.\u001b[39mcolumns) \u001b[39m==\u001b[39m \u001b[39mlen\u001b[39m(\u001b[39mset\u001b[39m(df_output\u001b[39m.\u001b[39mcolumns)), (\n\u001b[1;32m   1542\u001b[0m     \u001b[39m\"\u001b[39m\u001b[39mWide-mode name-inference failure, likely due to a internal bug. \u001b[39m\u001b[39m\"\u001b[39m\n\u001b[1;32m   1543\u001b[0m     \u001b[39m\"\u001b[39m\u001b[39mPlease report this to \u001b[39m\u001b[39m\"\u001b[39m\n\u001b[1;32m   1544\u001b[0m     \u001b[39m\"\u001b[39m\u001b[39mhttps://github.com/plotly/plotly.py/issues/new and we will try to \u001b[39m\u001b[39m\"\u001b[39m\n\u001b[1;32m   1545\u001b[0m     \u001b[39m\"\u001b[39m\u001b[39mreplicate and fix it.\u001b[39m\u001b[39m\"\u001b[39m\n\u001b[1;32m   1546\u001b[0m )\n",
      "\u001b[0;31mValueError\u001b[0m: Plotly Express cannot process wide-form data with columns of different type."
     ]
    }
   ],
   "source": [
    "# Visualisering\n",
    "\n",
    "fig = px.histogram(museum_reshaped,\n",
    "                    histnorm='probability density',\n",
    "                    nbins=150,\n",
    "                    color = museum_reshaped[\"variable\"]\n",
    "                    )\n",
    "    \n",
    "fig.show()"
   ]
  },
  {
   "cell_type": "markdown",
   "metadata": {},
   "source": [
    "Hva legger du merke til i figuren du lagde? Nevn minst tre ting. "
   ]
  },
  {
   "cell_type": "markdown",
   "metadata": {},
   "source": [
    "..."
   ]
  },
  {
   "cell_type": "markdown",
   "metadata": {},
   "source": [
    "## Titanic data\n",
    "\n",
    "Titanic datasettet (data/titanic.csv) har vi sett på flere ganger i løpet av kurset. Her skal vi lage noen flere visualiseringer som relaterer prisen til andre variabler. \n",
    "\n",
    "Les inn data og se på de første radene av datasettet. "
   ]
  },
  {
   "cell_type": "code",
   "execution_count": null,
   "metadata": {},
   "outputs": [],
   "source": [
    "# lese inn data og se på de første radene. \n",
    "titanic = ___\n",
    "___"
   ]
  },
  {
   "cell_type": "markdown",
   "metadata": {},
   "source": [
    "Lag en meningsfull figur som viser kjønn (`Sex`) og pris (`Fare`) av titanic-passasjerene.\n",
    "\n",
    "Er det noen forskjeller mellom prisene som kvinner og men betaler?"
   ]
  },
  {
   "cell_type": "code",
   "execution_count": null,
   "metadata": {},
   "outputs": [],
   "source": [
    "# Visualisering av kjønn og pris\n",
    "fig = ___\n",
    "fig.show()"
   ]
  },
  {
   "cell_type": "markdown",
   "metadata": {},
   "source": [
    "Variasjonen i prisen er større blant kvinner enn blant menn. Typisk betaler kvinner mer enn menn. "
   ]
  },
  {
   "cell_type": "markdown",
   "metadata": {},
   "source": [
    "Vi har sett i forelesninen at det er store forskjeller mellom kjønn og klassen (`Pclass`). Kan det forklare forskjellen mellom kjønn og prisen? Lag en figur for å se på de tre variablene samtidig. \n",
    "\n",
    "På første forsøk er det kanskje ikke like lett å se forskjellen i alle klassene. Hva kan du gjøre for å få alle klassene til å vises like godt?\n",
    "\n",
    "Er det fortsatt forskjeller mellom kjønn og pris? I så fall, er det de samme forskjellene som vi så på i spørsmål før?"
   ]
  },
  {
   "cell_type": "code",
   "execution_count": null,
   "metadata": {},
   "outputs": [],
   "source": [
    "# Visualisering av kjønn, pris og klasse\n",
    "fig = ___\n",
    "fig.show()"
   ]
  },
  {
   "cell_type": "markdown",
   "metadata": {},
   "source": [
    "..."
   ]
  }
 ],
 "metadata": {
  "celltoolbar": "Tags",
  "kernelspec": {
   "display_name": "Python 3 (ipykernel)",
   "language": "python",
   "name": "python3"
  },
  "language_info": {
   "codemirror_mode": {
    "name": "ipython",
    "version": 3
   },
   "file_extension": ".py",
   "mimetype": "text/x-python",
   "name": "python",
   "nbconvert_exporter": "python",
   "pygments_lexer": "ipython3",
   "version": "3.10.12"
  }
 },
 "nbformat": 4,
 "nbformat_minor": 2
}
