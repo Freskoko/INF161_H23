{
 "cells": [
  {
   "cell_type": "markdown",
   "metadata": {},
   "source": [
    "## Titanic overlevelse\n",
    "\n",
    "Her har vi data om passasjerer på skipet Titanic og informasjon om hvorvidt de overlevde. I denne oppgaven skal du bruke passasjerdata for å teste om det er forskjeller i overlevelsen mellom passasjergrupper og predikere om passasjeren overlevde. "
   ]
  },
  {
   "cell_type": "code",
   "execution_count": 1,
   "metadata": {},
   "outputs": [],
   "source": [
    "# imports\n",
    "import numpy as np\n",
    "import pandas as pd\n",
    "from scipy import stats\n",
    "\n",
    "from sklearn.model_selection import train_test_split\n",
    "from sklearn.linear_model import Lasso, LogisticRegression\n",
    "from sklearn.neighbors import KNeighborsClassifier\n",
    "from sklearn.ensemble import RandomForestClassifier\n",
    "from sklearn.naive_bayes import MultinomialNB\n",
    "from sklearn.svm import SVC\n",
    "from sklearn.metrics import accuracy_score, log_loss"
   ]
  },
  {
   "cell_type": "code",
   "execution_count": 2,
   "metadata": {},
   "outputs": [],
   "source": [
    "# les inn Titanic-data\n",
    "titanic_df = pd.read_csv('data/titanic.csv')"
   ]
  },
  {
   "cell_type": "markdown",
   "metadata": {},
   "source": [
    "Først endrer vi litt på data for å gjøre oppgaven enklere. Dette er ikke en god ide å gjøre når vi vil lage bestmulige modeller. "
   ]
  },
  {
   "cell_type": "code",
   "execution_count": 3,
   "metadata": {},
   "outputs": [],
   "source": [
    "# del data i mål-, og prediktorvariabler\n",
    "X_cols = ['Pclass', 'Sex', 'Age', 'SibSp', 'Parch', 'Fare']\n",
    "y_col = 'Survived'\n",
    "reduced_df = titanic_df.loc[:, X_cols + [y_col]].dropna()\n",
    "X_df = pd.get_dummies(reduced_df.loc[:, X_cols], dtype='int')\n",
    "X = X_df.values\n",
    "y = reduced_df[y_col].values"
   ]
  },
  {
   "cell_type": "markdown",
   "metadata": {},
   "source": [
    "Del data i trenings-, validerigns-, og testdata med størrelser 70%, 15%, 15% av data. "
   ]
  },
  {
   "cell_type": "code",
   "execution_count": 4,
   "metadata": {},
   "outputs": [
    {
     "name": "stdout",
     "output_type": "stream",
     "text": [
      "[[ 3.     33.      0.     ...  7.775   0.      1.    ]\n",
      " [ 2.      6.      0.     ... 33.      1.      0.    ]\n",
      " [ 3.     17.      1.     ...  7.0542  0.      1.    ]\n",
      " ...\n",
      " [ 1.     19.      0.     ... 30.      1.      0.    ]\n",
      " [ 1.     26.      0.     ... 30.      0.      1.    ]\n",
      " [ 3.     32.      0.     ...  7.75    0.      1.    ]]\n",
      "[0 1 0 0 0 1 0 1 0 0 1 0 0 0 0 0 1 0 1 0 1 0 0 1 0 0 1 1 0 0 1 1 0 0 0 1 0\n",
      " 1 1 0 1 0 0 0 0 0 1 0 1 1 1 1 0 0 0 1 0 1 0 0 0 0 1 1 0 0 0 1 1 1 1 0 0 0\n",
      " 0 1 0 0 0 0 0 0 0 0 0 1 1 0 1 0 1 1 1 1 0 0 1 0 1 0 0 1 0 0 0 0 0 0 0 0 1\n",
      " 0 1 1 1 1 0 0 1 0 1 1 0 1 0 1 0 0 1 1 0 0 1 1 0 0 0 0 0 0 1 1 0]\n",
      "     Pclass   Age  SibSp  Parch     Fare  Sex_female  Sex_male  Survived\n",
      "0       3.0  33.0    0.0    0.0   7.7750         0.0       1.0         0\n",
      "1       2.0   6.0    0.0    1.0  33.0000         1.0       0.0         1\n",
      "2       3.0  17.0    1.0    0.0   7.0542         0.0       1.0         0\n",
      "3       2.0  34.0    0.0    0.0  13.0000         0.0       1.0         0\n",
      "4       2.0  50.0    0.0    0.0  13.0000         0.0       1.0         0\n",
      "..      ...   ...    ...    ...      ...         ...       ...       ...\n",
      "138     3.0  39.0    0.0    5.0  29.1250         1.0       0.0         0\n",
      "139     2.0  27.0    0.0    0.0  13.0000         0.0       1.0         0\n",
      "140     1.0  19.0    0.0    0.0  30.0000         1.0       0.0         1\n",
      "141     1.0  26.0    0.0    0.0  30.0000         0.0       1.0         1\n",
      "142     3.0  32.0    0.0    0.0   7.7500         0.0       1.0         0\n",
      "\n",
      "[143 rows x 8 columns]\n"
     ]
    }
   ],
   "source": [
    "# dele data i trenings, validerings og testdata\n",
    "# generer X_train, X_val, X_test, y_train, y_val, y_test\n",
    "\n",
    "X_train, X_val, y_train, y_val = train_test_split(\n",
    "    X, y, shuffle=False, test_size=0.4\n",
    ")\n",
    "\n",
    "X_val, X_test, y_val, y_test = train_test_split(\n",
    "    X_val, y_val, shuffle=False, test_size=0.5\n",
    ")\n",
    "\n",
    "print(X_test)\n",
    "print(y_test)\n",
    "\n",
    "test_df = pd.DataFrame(X_test, columns=X_df.columns)\n",
    "test_df[y_col] = y_test\n",
    "print(test_df)"
   ]
  },
  {
   "cell_type": "markdown",
   "metadata": {},
   "source": [
    "På treningsdata, test om menn og kvinner hadde forskjellige sannsynligheter for å overleve."
   ]
  },
  {
   "cell_type": "code",
   "execution_count": 5,
   "metadata": {},
   "outputs": [
    {
     "name": "stdout",
     "output_type": "stream",
     "text": [
      "0.7647058823529411\n",
      "0.18478260869565216\n"
     ]
    },
    {
     "data": {
      "text/plain": [
       "'Menn overlever 18.48% mens kvinner overlever 76.47% '"
      ]
     },
     "execution_count": 5,
     "metadata": {},
     "output_type": "execute_result"
    }
   ],
   "source": [
    "# test om menn og kvinner hadde forskjellig overlevelse\n",
    "kvinne_survival_rate = test_df[test_df[\"Sex_female\"] == 1][\"Survived\"].mean()\n",
    "menn_survival_rate = test_df[test_df[\"Sex_male\"] == 1][\"Survived\"].mean()\n",
    "\n",
    "print(kvinne_survival_rate)\n",
    "print(menn_survival_rate)\n",
    "\n",
    "kjonn_test = f\"Menn overlever {round(menn_survival_rate*100,2)}% mens kvinner overlever {round(kvinne_survival_rate*100,2)}% \"\n",
    "kjonn_test"
   ]
  },
  {
   "cell_type": "markdown",
   "metadata": {},
   "source": [
    "På treningsdata, test om de som overlevde hadde forskjellig mean alder enn de som ikke overlevde. "
   ]
  },
  {
   "cell_type": "code",
   "execution_count": 6,
   "metadata": {},
   "outputs": [
    {
     "data": {
      "text/plain": [
       "'Døde average alder: 28.82 mens leve average alder 27.11'"
      ]
     },
     "execution_count": 6,
     "metadata": {},
     "output_type": "execute_result"
    }
   ],
   "source": [
    "# test om de som overlevde hadde forskjellig mean alder enn de som ikke overlevde\n",
    "survived = test_df[test_df[\"Survived\"] == 1][\"Age\"].mean()\n",
    "dead = test_df[test_df[\"Survived\"] == 0][\"Age\"].mean()\n",
    "alder_test = f\"Døde average alder: {round(dead,2)} mens leve average alder {round(survived,2)}\"\n",
    "alder_test"
   ]
  },
  {
   "cell_type": "markdown",
   "metadata": {},
   "source": [
    "Tren en kNN-modell med k=1, k=10 og k=50 på treningsdata. Tren også en logistisk regresjon, naive Bayes modell, tilfeldig skog og supportvektormaskin på treningsdata."
   ]
  },
  {
   "cell_type": "code",
   "execution_count": null,
   "metadata": {},
   "outputs": [],
   "source": []
  },
  {
   "cell_type": "code",
   "execution_count": 7,
   "metadata": {},
   "outputs": [
    {
     "name": "stderr",
     "output_type": "stream",
     "text": [
      "/home/henrik/.local/lib/python3.10/site-packages/sklearn/linear_model/_logistic.py:460: ConvergenceWarning: lbfgs failed to converge (status=1):\n",
      "STOP: TOTAL NO. of ITERATIONS REACHED LIMIT.\n",
      "\n",
      "Increase the number of iterations (max_iter) or scale the data as shown in:\n",
      "    https://scikit-learn.org/stable/modules/preprocessing.html\n",
      "Please also refer to the documentation for alternative solver options:\n",
      "    https://scikit-learn.org/stable/modules/linear_model.html#logistic-regression\n",
      "  n_iter_i = _check_optimize_result(\n"
     ]
    },
    {
     "name": "stdout",
     "output_type": "stream",
     "text": [
      "{'kNN-1': KNeighborsClassifier(n_neighbors=1), 'kNN-10': KNeighborsClassifier(n_neighbors=10), 'kNN-50': KNeighborsClassifier(n_neighbors=1), 'regressor': LogisticRegression(), 'naiveBayes': MultinomialNB(), 'forest': RandomForestClassifier(), 'supportvector': SVC()}\n"
     ]
    }
   ],
   "source": [
    "# tren forskjellige modeller\n",
    "\n",
    "model_output = {}\n",
    "\n",
    "models = {'kNN-1': KNeighborsClassifier(n_neighbors=1),\n",
    "          'kNN-10': KNeighborsClassifier(n_neighbors=10),\n",
    "          'kNN-50': KNeighborsClassifier(n_neighbors=1),\n",
    "          \"regressor\":LogisticRegression(),\n",
    "          \"naiveBayes\":MultinomialNB(),\n",
    "          \"forest\":RandomForestClassifier(n_estimators=100),\n",
    "          \"supportvector\":SVC()\n",
    "          }\n",
    "\n",
    "for name, model in models.items():\n",
    "\n",
    "    output = model.fit(X_train, y_train)\n",
    "\n",
    "    model_output[f\"{name}\"] = output\n",
    "\n",
    "print(model_output)\n"
   ]
  },
  {
   "cell_type": "markdown",
   "metadata": {},
   "source": [
    "Sorter de ulike modellene etter nøyaktighet på valideringsdata (`sklearn.metrics.accuracy_score`)."
   ]
  },
  {
   "cell_type": "code",
   "execution_count": 8,
   "metadata": {},
   "outputs": [
    {
     "name": "stdout",
     "output_type": "stream",
     "text": [
      "            name  accuracy\n",
      "5         forest  0.769231\n",
      "3      regressor  0.734266\n",
      "1         kNN-10  0.699301\n",
      "4     naiveBayes  0.692308\n",
      "6  supportvector  0.678322\n",
      "0          kNN-1  0.629371\n",
      "2         kNN-50  0.629371\n"
     ]
    }
   ],
   "source": [
    "# sjekk nøyaktighet for valideringsdata\n",
    "accuracies = [accuracy_score(y_val,model.predict(X_val)) for model in model_output.values()]\n",
    "\n",
    "accuracies_df = pd.DataFrame(model_output.keys(),columns=[\"name\"])\n",
    "accuracies_df[\"accuracy\"] = accuracies\n",
    "accuracies_df.sort_values(by='accuracy', ascending=False, inplace=True)\n",
    "print(accuracies_df)"
   ]
  },
  {
   "cell_type": "markdown",
   "metadata": {},
   "source": [
    "I stedet for nøyaktighet er det vanlig å bruke log-loss, som tar hensyn til en probabilistisk prediksjon. Sorter de ulike modellene etter log-loss (`sklearn.metrics.log_loss`). "
   ]
  },
  {
   "cell_type": "code",
   "execution_count": 9,
   "metadata": {},
   "outputs": [
    {
     "name": "stdout",
     "output_type": "stream",
     "text": [
      "            name       loss\n",
      "5         forest   8.317766\n",
      "3      regressor   9.578034\n",
      "1         kNN-10  10.838301\n",
      "4     naiveBayes  11.090355\n",
      "6  supportvector  11.594462\n",
      "0          kNN-1  13.358837\n",
      "2         kNN-50  13.358837\n"
     ]
    }
   ],
   "source": [
    "# sjekk log loss for valideringsdata\n",
    "losses = [log_loss(y_val,model.predict(X_val)) for model in model_output.values()]\n",
    "losses_df = pd.DataFrame(model_output.keys(),columns=[\"name\"])\n",
    "losses_df[\"loss\"] = losses\n",
    "\n",
    "losses_df.sort_values(by='loss', inplace=True)\n",
    "print(losses_df)"
   ]
  },
  {
   "cell_type": "markdown",
   "metadata": {},
   "source": [
    "Velg ut den beste modellen (basert på log-loss) og sjekk hvor godt den generaliserer ved å regne ut nøyaktighet og log-loss på testdata. "
   ]
  },
  {
   "cell_type": "code",
   "execution_count": 10,
   "metadata": {},
   "outputs": [
    {
     "name": "stdout",
     "output_type": "stream",
     "text": [
      "Nøyaktighet: 0.8391608391608392\n",
      "Log-loss: 5.797230964683178\n"
     ]
    }
   ],
   "source": [
    "# sjekk generaliseringsevne\n",
    "best_model = RandomForestClassifier()\n",
    "best_model.fit(X_train, y_train) \n",
    "generalization_accuracy = accuracy_score(y_test,best_model.predict(X_test))\n",
    "generalization_logloss = log_loss(y_test,best_model.predict(X_test))\n",
    "print('Nøyaktighet:', generalization_accuracy)\n",
    "print('Log-loss:', generalization_logloss)"
   ]
  },
  {
   "cell_type": "markdown",
   "metadata": {},
   "source": [
    "Gi en oppsummering over hva du har gjort og hva resultatet var. "
   ]
  },
  {
   "cell_type": "markdown",
   "metadata": {},
   "source": [
    "Lest inn titanic data, delt i test/trening/validering data\n",
    "\n",
    "Sett litt på data om hvilket kjønn som overlevde mest (kvinner)\n",
    "Sett litt på gjennomsnitt alderen til døde(litt høyere) enn de som levde\n",
    "\n",
    "Så har jeg sett på en del forskjellige modeller, trent de på train data, funnet accuracy og log_loss score. \n",
    "\n",
    "Da fant jeg ut at ```RandomForestClassifier``` er den beste modellen for denne dataen.\n",
    "\n",
    "Så skulle vi se om den faktisk kan generaliseres\n",
    "og drumroll . . . det kan den!\n",
    "\n",
    "Ganske bra og, siden Log-loss på test dataen er enda lavere en train dataen! \n",
    "\n",
    "Accuracy er litt høyere, men ikke mye. Så da har vi bevis at ```RandomForestClassifier``` er en god model hvis det skulle skje en titanic 2. (bank på tre)"
   ]
  }
 ],
 "metadata": {
  "celltoolbar": "Tags",
  "kernelspec": {
   "display_name": "Python 3 (ipykernel)",
   "language": "python",
   "name": "python3"
  },
  "language_info": {
   "codemirror_mode": {
    "name": "ipython",
    "version": 3
   },
   "file_extension": ".py",
   "mimetype": "text/x-python",
   "name": "python",
   "nbconvert_exporter": "python",
   "pygments_lexer": "ipython3",
   "version": "3.10.12"
  }
 },
 "nbformat": 4,
 "nbformat_minor": 2
}
