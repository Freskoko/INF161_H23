{
 "cells": [
  {
   "cell_type": "markdown",
   "metadata": {},
   "source": [
    "## Titanic overlevelse\n",
    "\n",
    "Her har vi data om passasjerer på skipet Titanic og informasjon om hvorvidt de overlevde. I denne oppgaven skal du bruke passasjerdata for å teste om det er forskjeller i overlevelsen mellom passasjergrupper og predikere om passasjeren overlevde. "
   ]
  },
  {
   "cell_type": "code",
   "execution_count": null,
   "metadata": {},
   "outputs": [],
   "source": [
    "# imports\n",
    "import numpy as np\n",
    "import pandas as pd\n",
    "from scipy import stats\n",
    "\n",
    "from sklearn.model_selection import train_test_split\n",
    "from sklearn.linear_model import Lasso, LogisticRegression\n",
    "from sklearn.neighbors import KNeighborsClassifier\n",
    "from sklearn.ensemble import RandomForestClassifier\n",
    "from sklearn.naive_bayes import MultinomialNB\n",
    "from sklearn.svm import SVC\n",
    "from sklearn.metrics import accuracy_score, log_loss"
   ]
  },
  {
   "cell_type": "code",
   "execution_count": null,
   "metadata": {},
   "outputs": [],
   "source": [
    "# les inn Titanic-data\n",
    "titanic_df = pd.read_csv('data/titanic.csv')"
   ]
  },
  {
   "cell_type": "markdown",
   "metadata": {},
   "source": [
    "Først endrer vi litt på data for å gjøre oppgaven enklere. Dette er ikke en god ide å gjøre når vi vil lage bestmulige modeller. "
   ]
  },
  {
   "cell_type": "code",
   "execution_count": null,
   "metadata": {},
   "outputs": [],
   "source": [
    "# del data i mål-, og prediktorvariabler\n",
    "X_cols = ['Pclass', 'Sex', 'Age', 'SibSp', 'Parch', 'Fare']\n",
    "y_col = 'Survived'\n",
    "reduced_df = titanic_df.loc[:, X_cols + [y_col]].dropna()\n",
    "X_df = pd.get_dummies(reduced_df.loc[:, X_cols], dtype='int')\n",
    "X = X_df.values\n",
    "y = reduced_df[y_col].values"
   ]
  },
  {
   "cell_type": "markdown",
   "metadata": {},
   "source": [
    "Del data i trenings-, validerigns-, og testdata med størrelser 70%, 15%, 15% av data. "
   ]
  },
  {
   "cell_type": "code",
   "execution_count": null,
   "metadata": {},
   "outputs": [],
   "source": [
    "# dele data i trenings, validerings og testdata\n",
    "# generer X_train, X_val, X_test, y_train, y_val, y_test\n",
    "\n",
    "X_train, X_val, y_train, y_val = train_test_split(\n",
    "    X, y, test_size=0.4\n",
    ")\n",
    "\n",
    "X_val, X_test, y_val, y_test = train_test_split(\n",
    "    X_val, y_val, test_size=0.5\n",
    ")\n",
    "\n",
    "print(X_test)\n",
    "print(y_test)\n",
    "\n",
    "test_df = pd.DataFrame(X_test, columns=X_df.columns)\n",
    "test_df[y_col] = y_test\n",
    "print(test_df)"
   ]
  },
  {
   "cell_type": "markdown",
   "metadata": {},
   "source": [
    "På treningsdata, test om menn og kvinner hadde forskjellige sannsynligheter for å overleve."
   ]
  },
  {
   "cell_type": "code",
   "execution_count": null,
   "metadata": {},
   "outputs": [],
   "source": [
    "# test om menn og kvinner hadde forskjellig overlevelse\n",
    "kvinne_survival_rate = test_df[test_df[\"Sex_female\"] == 1][\"Survived\"].mean()\n",
    "menn_survival_rate = test_df[test_df[\"Sex_male\"] == 1][\"Survived\"].mean()\n",
    "\n",
    "print(kvinne_survival_rate)\n",
    "print(menn_survival_rate)\n",
    "\n",
    "kjonn_test = f\"Prsent av menn som overlevede {round(menn_survival_rate*100,2)}% mens prosent av kvinner som overlevede {round(kvinne_survival_rate*100,2)}% \"\n",
    "kjonn_test"
   ]
  },
  {
   "cell_type": "markdown",
   "metadata": {},
   "source": [
    "På treningsdata, test om de som overlevde hadde forskjellig mean alder enn de som ikke overlevde. "
   ]
  },
  {
   "cell_type": "code",
   "execution_count": null,
   "metadata": {},
   "outputs": [],
   "source": [
    "# test om de som overlevde hadde forskjellig mean alder enn de som ikke overlevde\n",
    "survived = test_df[test_df[\"Survived\"] == 1][\"Age\"].mean()\n",
    "dead = test_df[test_df[\"Survived\"] == 0][\"Age\"].mean()\n",
    "alder_test = f\"Døde average alder: {round(dead,2)} mens leve average alder {round(survived,2)}\"\n",
    "alder_test"
   ]
  },
  {
   "cell_type": "markdown",
   "metadata": {},
   "source": [
    "Tren en kNN-modell med k=1, k=10 og k=50 på treningsdata. Tren også en logistisk regresjon, naive Bayes modell, tilfeldig skog og supportvektormaskin på treningsdata."
   ]
  },
  {
   "cell_type": "code",
   "execution_count": null,
   "metadata": {},
   "outputs": [],
   "source": [
    "# tren forskjellige modeller\n",
    "\n",
    "model_output = {}\n",
    "\n",
    "models = {'kNN-1': KNeighborsClassifier(n_neighbors=1),\n",
    "          'kNN-10': KNeighborsClassifier(n_neighbors=10),\n",
    "          'kNN-50': KNeighborsClassifier(n_neighbors=1),\n",
    "          \"regressor\":LogisticRegression(),\n",
    "          \"naiveBayes\":MultinomialNB(),\n",
    "          \"forest\":RandomForestClassifier(n_estimators=100),\n",
    "          \"supportvector\":SVC()\n",
    "          }\n",
    "\n",
    "for name, model in models.items():\n",
    "\n",
    "    output = model.fit(X_train, y_train)\n",
    "\n",
    "    model_output[f\"{name}\"] = output\n",
    "\n",
    "print(model_output)\n"
   ]
  },
  {
   "cell_type": "markdown",
   "metadata": {},
   "source": [
    "Sorter de ulike modellene etter nøyaktighet på valideringsdata (`sklearn.metrics.accuracy_score`)."
   ]
  },
  {
   "cell_type": "code",
   "execution_count": null,
   "metadata": {},
   "outputs": [],
   "source": [
    "# sjekk nøyaktighet for valideringsdata\n",
    "accuracies = [accuracy_score(y_val,model.predict(X_val)) for model in model_output.values()]\n",
    "\n",
    "accuracies_df = pd.DataFrame(model_output.keys(),columns=[\"name\"])\n",
    "accuracies_df[\"accuracy\"] = accuracies\n",
    "accuracies_df.sort_values(by='accuracy', ascending=False, inplace=True)\n",
    "print(accuracies_df)"
   ]
  },
  {
   "cell_type": "markdown",
   "metadata": {},
   "source": [
    "I stedet for nøyaktighet er det vanlig å bruke log-loss, som tar hensyn til en probabilistisk prediksjon. Sorter de ulike modellene etter log-loss (`sklearn.metrics.log_loss`). "
   ]
  },
  {
   "cell_type": "code",
   "execution_count": null,
   "metadata": {},
   "outputs": [],
   "source": [
    "# sjekk log loss for valideringsdata\n",
    "losses = [log_loss(y_val,model.predict(X_val)) for model in model_output.values()]\n",
    "losses_df = pd.DataFrame(model_output.keys(),columns=[\"name\"])\n",
    "losses_df[\"loss\"] = losses\n",
    "\n",
    "losses_df.sort_values(by='loss', inplace=True)\n",
    "print(losses_df)"
   ]
  },
  {
   "cell_type": "markdown",
   "metadata": {},
   "source": [
    "Velg ut den beste modellen (basert på log-loss) og sjekk hvor godt den generaliserer ved å regne ut nøyaktighet og log-loss på testdata. "
   ]
  },
  {
   "cell_type": "code",
   "execution_count": null,
   "metadata": {},
   "outputs": [],
   "source": [
    "# sjekk generaliseringsevne\n",
    "best_model = RandomForestClassifier()\n",
    "best_model.fit(X_train, y_train) \n",
    "generalization_accuracy = accuracy_score(y_test,best_model.predict(X_test))\n",
    "generalization_logloss = log_loss(y_test,best_model.predict(X_test))\n",
    "print('Nøyaktighet:', generalization_accuracy)\n",
    "print('Log-loss:', generalization_logloss)"
   ]
  },
  {
   "cell_type": "markdown",
   "metadata": {},
   "source": [
    "Gi en oppsummering over hva du har gjort og hva resultatet var. "
   ]
  },
  {
   "cell_type": "markdown",
   "metadata": {},
   "source": [
    "Lest inn titanic data, delt i test/trening/validering data\n",
    "\n",
    "Sett litt på data om hvilket kjønn som overlevde mest (kvinner)\n",
    "Sett litt på gjennomsnitt alderen til døde(litt høyere) enn de som levde\n",
    "\n",
    "Så har jeg sett på en del forskjellige modeller, trent de på train data, funnet accuracy og log_loss score. \n",
    "\n",
    "Da fant jeg ut at ```RandomForestClassifier``` er den beste modellen for denne dataen.\n",
    "\n",
    "Så skulle vi se om den faktisk kan generaliseres\n",
    "og drumroll . . . det kan den!\n",
    "\n",
    "Ganske bra og, siden accruacy på test dataen er enda lavere en train dataen, log loss er en del høyere, men de andre modellene har enda høyere log loss, selv på valideringsdata.\n",
    "\n",
    "Accuracy er litt høyere, men ikke mye. Så da har vi bevis at ```RandomForestClassifier``` er en god model hvis det skulle skje en titanic 2. (fingrene krysset at det ikke skjer)"
   ]
  }
 ],
 "metadata": {
  "celltoolbar": "Tags",
  "kernelspec": {
   "display_name": "Python 3 (ipykernel)",
   "language": "python",
   "name": "python3"
  },
  "language_info": {
   "codemirror_mode": {
    "name": "ipython",
    "version": 3
   },
   "file_extension": ".py",
   "mimetype": "text/x-python",
   "name": "python",
   "nbconvert_exporter": "python",
   "pygments_lexer": "ipython3",
   "version": "3.10.12"
  }
 },
 "nbformat": 4,
 "nbformat_minor": 2
}
