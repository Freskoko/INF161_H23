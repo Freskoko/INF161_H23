{
 "cells": [
  {
   "cell_type": "markdown",
   "metadata": {},
   "source": [
    "# Data\n",
    "\n",
    "I denne øvelsen vil vi se hvordan du kan manipulere datasett med `numpy` og `pandas`. I data science bruker vi ofte store datasett og det er derfor avgjørende å manipulere datasett på en god måte. \n",
    "\n",
    "I de følgende oppgavene må du alltid erstatte `___` med kode som gjør hva oppgaven spør om. "
   ]
  },
  {
   "cell_type": "markdown",
   "metadata": {},
   "source": [
    "## Grunnlegende om numpy \n",
    "\n",
    "Målet med denne oppgaven er å lære de grunnleggende egenskapene til numpy arrayer og hvordan du effektivt bruker dem i arbeidet ditt. "
   ]
  },
  {
   "cell_type": "markdown",
   "metadata": {},
   "source": [
    "Vi begynner å laste inn `numpy` pakken som `np`. "
   ]
  },
  {
   "cell_type": "code",
   "execution_count": null,
   "metadata": {},
   "outputs": [],
   "source": [
    "#TODO\n",
    "\n",
    "# np.describe()\n",
    "# kombiner spørsmål 5 og 6\n",
    "# siste på undermatriser"
   ]
  },
  {
   "cell_type": "code",
   "execution_count": null,
   "metadata": {},
   "outputs": [],
   "source": [
    "import numpy as np"
   ]
  },
  {
   "cell_type": "markdown",
   "metadata": {},
   "source": [
    "### Lage numpy array\n",
    "\n",
    "Det kan være nyttig å vite hvordan du lager en numpy array fra bunnen av for å teste koden din. For eksempel, når du gjør matematikk med store flerdimensjonale arrays, er det fint å sjekke om matematikken fungerer som forventet på små test arrays før du bruker koden på de større arrayene. numpy har mange alternativer for å lage mindre syntetiske matriser."
   ]
  },
  {
   "cell_type": "markdown",
   "metadata": {},
   "source": [
    "Lag og skriv ut en numpy array som har to rader og fire kolonner fylt med nuller. Tips: Du kan bruke [numpy.zeros](https://numpy.org/doc/stable/reference/generated/numpy.zeros.html) for å gjøre det på en linje. "
   ]
  },
  {
   "cell_type": "code",
   "execution_count": null,
   "metadata": {},
   "outputs": [],
   "source": [
    "# numpy array med nuller\n",
    "zeros_array = np.zeros( (2,4) )\n",
    "print(zeros_array)"
   ]
  },
  {
   "cell_type": "markdown",
   "metadata": {},
   "source": [
    "Lag og skriv ut en numpy array som har tre rader og seks kolonner fylt med uniformt fordelte tilfeldige tall mellom 0 og 1. Tips: Du kan bruke [numpy.random.uniform](https://numpy.org/doc/stable/reference/random/generated/numpy.random.uniform.html) for å gjøre det på en linje. "
   ]
  },
  {
   "cell_type": "code",
   "execution_count": null,
   "metadata": {},
   "outputs": [],
   "source": [
    "# numpy array med tilfeldige tall\n",
    "random_array = np.random.uniform(0,1, (3,6) )\n",
    "print(random_array)"
   ]
  },
  {
   "cell_type": "markdown",
   "metadata": {},
   "source": [
    "Lag et 1-dimensjonal numpy array som inneholder 8 jevnt fordelte tall fra 0.3 til 1.7. Tips: Du kan bruke enten [`numpy.arange`](https://numpy.org/doc/stable/reference/generated/numpy.arange.html) eller [`numpy.linspace`](https://numpy.org/doc/stable/reference/generated/numpy.linspace.html) for denne oppgaven. "
   ]
  },
  {
   "cell_type": "code",
   "execution_count": null,
   "metadata": {},
   "outputs": [],
   "source": [
    "# numpy array med tall mellom 0.3 og 1.7\n",
    "range_array = np.linspace( 0.3,1.7, 8)\n",
    "print(range_array)"
   ]
  },
  {
   "cell_type": "markdown",
   "metadata": {},
   "source": [
    "### Dimensjon av numpy array\n",
    "\n",
    "Numpy arrayer har en rekke egenskaper, som størrelsen og antall dimensjoner. Vi må kunne finne de egenskapene. Noen ganger trenger vi også å endre formen på numpy arrayer. "
   ]
  },
  {
   "cell_type": "markdown",
   "metadata": {},
   "source": [
    "Skriv ut formen av `range_array` som du har laget. Tips: Du kan bruke [`shape`](https://numpy.org/doc/stable/reference/generated/numpy.ndarray.shape.html) for å lese formen av en numpy array. "
   ]
  },
  {
   "cell_type": "code",
   "execution_count": null,
   "metadata": {},
   "outputs": [],
   "source": [
    "# formen av range_array\n",
    "array_shape = np.shape(range_array)\n",
    "print(array_shape)"
   ]
  },
  {
   "cell_type": "markdown",
   "metadata": {},
   "source": [
    "Endre dimensjonen til `range_array` sånn at du får et array med 2 kolonner. Målet er å få en array som har tall [0.3, 0.5, 0.7, 0.9] i første kolonnen og tall [1.1, 1.3, 1.5, 1.7] i andre kolonnen. Tips: Du kan løse oppgaven ved å kun bruke [`numpy.reshape`](https://numpy.org/doc/stable/reference/generated/numpy.reshape.html). Alternativt kan du kombinere [`numpy.reshape`](https://numpy.org/doc/stable/reference/generated/numpy.reshape.html) med [`numpy.transpose`](https://numpy.org/doc/stable/reference/generated/numpy.transpose.html) eller med [`numpy.swapaxes`](https://numpy.org/doc/stable/reference/generated/numpy.swapaxes.html) for denne oppgaven. \n",
    "\n",
    "Skriv ut den nye numpy arrayen og dimensjonen av den nye numpy arrayen. "
   ]
  },
  {
   "cell_type": "code",
   "execution_count": null,
   "metadata": {},
   "outputs": [],
   "source": [
    "# endre formen\n",
    "reshaped_range_array = np.reshape(range_array,(4,2), order=\"F\")\n",
    "print(reshaped_range_array)\n",
    "# formen av den nye arrayen\n",
    "reshaped_array_shape = np.shape(reshaped_range_array)\n",
    "print(reshaped_array_shape)"
   ]
  },
  {
   "cell_type": "markdown",
   "metadata": {},
   "source": [
    "Bruk [`numpy.flatten`](https://numpy.org/doc/stable/reference/generated/numpy.ndarray.flatten.html) for å lage en 1-dimensjonal numpy array ut av `reshaped_range_array`. Skriv den ut. Er det des samme som `range_array` du begynte med?"
   ]
  },
  {
   "cell_type": "code",
   "execution_count": null,
   "metadata": {},
   "outputs": [],
   "source": [
    "# flatten\n",
    "flattened_range_array = np.reshape(reshaped_range_array,(8))\n",
    "print(flattened_range_array)\n",
    "\n",
    "#Den ser helt liktut som ista"
   ]
  },
  {
   "cell_type": "markdown",
   "metadata": {},
   "source": [
    "### Kombinere flere array\n",
    "\n",
    "Når vi har data fra forskjellige kilder er det ofte viktig å kunne kombinere de. Her lærer du hvordan å gjøre det med `numpy`. "
   ]
  },
  {
   "cell_type": "markdown",
   "metadata": {},
   "source": [
    "Først lager jeg to matrisser som eksempler. "
   ]
  },
  {
   "cell_type": "code",
   "execution_count": null,
   "metadata": {},
   "outputs": [],
   "source": [
    "# eksempel matriser\n",
    "mat1 = np.ones(shape=(3, 4))\n",
    "mat2 = np.arange(2, 14).reshape(3, 4)\n",
    "print(mat1)\n",
    "print()\n",
    "print(mat2)"
   ]
  },
  {
   "cell_type": "markdown",
   "metadata": {},
   "source": [
    "Det er mange måter å kombinere de matrissene. Her prøver vi det ut på tre forskjellige måter. Kombiner `mat1` med `mat2`, slik at du får\n",
    "- en ny matrisse med 6 rader og 4 kolonner (Tips: Bruk [`numpy.vstack`](https://numpy.org/doc/stable/reference/generated/numpy.vstack.html)), \n",
    "- en ny matrisse med 3 rader og 8 kolonner (Tips: Bruk [`numpy.hstack`](https://numpy.org/doc/stable/reference/generated/numpy.hstack.html)), \n",
    "- en ny 3-dimensjonal numpy array med form (2, 3, 4) (Tips: Bruk [`numpy.stack`](https://numpy.org/doc/stable/reference/generated/numpy.stack.html)). \n",
    "\n",
    "Det er også et valg hvilken av mat1 og mat2 skal komme først i kombinasjonen. Her tar vi alltid mat1 før mat2. "
   ]
  },
  {
   "cell_type": "code",
   "execution_count": null,
   "metadata": {},
   "outputs": [],
   "source": [
    "# kombinere slik at det blir 6 rader og 4 kolonner\n",
    "combined_6x4 = np.vstack( (mat1,mat2) )\n",
    "print(combined_6x4)\n",
    "print(combined_6x4.shape)"
   ]
  },
  {
   "cell_type": "code",
   "execution_count": null,
   "metadata": {},
   "outputs": [],
   "source": [
    "# kombinere slik at det blir 3 rader og 8 kolonner\n",
    "combined_3x8 = np.hstack( (mat1,mat2) )\n",
    "print(combined_3x8)\n",
    "print(combined_3x8.shape)"
   ]
  },
  {
   "cell_type": "code",
   "execution_count": null,
   "metadata": {},
   "outputs": [],
   "source": [
    "# kombinere slik at det blir en array med shape (2, 3, 4)\n",
    "combined_2x3x4 = np.stack( (mat1,mat2) )\n",
    "print(combined_2x3x4)\n",
    "print(combined_2x3x4.shape)"
   ]
  },
  {
   "cell_type": "markdown",
   "metadata": {},
   "source": [
    "### Undermatriser\n",
    "\n",
    "Når vi har store numpy arrayer, så vil vi ofte kun se på en liten del om gangen. For å gjøre det må vi kunne ta ut undermatrisser. For å velge ut rader og kolonner bruker vi indeksering. Se [`numpy` dokumentasjonen](https://numpy.org/doc/stable/user/basics.indexing.html#basics-indexing) for en god introduksjon til indeksering. \n",
    "\n",
    "Skriv ut følgende undermatriser av `mat2`: \n",
    "  - A: De første to kolonnene\n",
    "  - B: De første to radene og de to første kolonnene. \n",
    "  - C: De siste to radene og kolonnene 0 og 2. \n",
    "  - D: Radene 1 og 2 og kolonnene 0 og 3"
   ]
  },
  {
   "cell_type": "code",
   "execution_count": null,
   "metadata": {},
   "outputs": [],
   "source": [
    "# De første to kolonnene\n",
    "matA = mat2[0:,:2]\n",
    "print(matA)"
   ]
  },
  {
   "cell_type": "code",
   "execution_count": null,
   "metadata": {},
   "outputs": [],
   "source": [
    "# De første to radene og de to første kolonnene. \n",
    "matB = mat2[:2,:2]\n",
    "print(matB)"
   ]
  },
  {
   "cell_type": "code",
   "execution_count": null,
   "metadata": {},
   "outputs": [],
   "source": [
    "# De siste to radene og kolonnene 0 og 2. \n",
    "matC = mat2[-2:, :][:, [0, 2]]\n",
    "print(matC)"
   ]
  },
  {
   "cell_type": "code",
   "execution_count": null,
   "metadata": {},
   "outputs": [],
   "source": [
    "# Radene 1 og 2 og kolonnene 0 og 3 \n",
    "matD = mat2[1:,:][:, [0, 3]]\n",
    "print(matD)"
   ]
  },
  {
   "cell_type": "markdown",
   "metadata": {},
   "source": [
    "### Endre data\n",
    "\n",
    "Når vi har gitt data, så vil vi noen ganger endre på det. For eksempel kan det være at vi har verdier i data som er fysisk umulig, så vi vil sette de til den største mulige verdien."
   ]
  },
  {
   "cell_type": "markdown",
   "metadata": {},
   "source": [
    "Endre `mat2` slik at alle tall mindre enn 5 blir satt til 5 og tall større enn 10 blir satt til 10. Tips: Du kan bruke [`numpy.clip`](https://numpy.org/doc/stable/reference/generated/numpy.clip.html)."
   ]
  },
  {
   "cell_type": "code",
   "execution_count": null,
   "metadata": {},
   "outputs": [],
   "source": [
    "# mat2 med verdier mellom 5 og 10\n",
    "clipped_mat2 = np.clip(mat2,5,10)\n",
    "print(clipped_mat2)"
   ]
  },
  {
   "cell_type": "markdown",
   "metadata": {},
   "source": [
    "I `mat2`, bytt ut alle oddetallene med verdien 1. "
   ]
  },
  {
   "cell_type": "code",
   "execution_count": null,
   "metadata": {},
   "outputs": [],
   "source": [
    "# bytte ut alle oddetallene med verdien 1\n",
    "odd_mat2 = mat2.copy() # kopier mat2 til en ny numpy array odd_mat2\n",
    "oddetall = np.where(mat2%2)\n",
    "odd_mat2[oddetall] = 1\n",
    "print(odd_mat2)"
   ]
  },
  {
   "cell_type": "markdown",
   "metadata": {},
   "source": [
    "Merk at alle tall i `mat2` er lagret som integer. Gjør de om til `float`. Tips: Bruk [numpy.astype](https://numpy.org/doc/stable/reference/generated/numpy.ndarray.astype.html). "
   ]
  },
  {
   "cell_type": "code",
   "execution_count": null,
   "metadata": {},
   "outputs": [],
   "source": [
    "# gjør om til float\n",
    "mat2_float = mat2.astype(float)\n",
    "print(mat2_float)\n",
    "print(mat2.dtype)\n",
    "print(mat2_float.dtype)"
   ]
  },
  {
   "cell_type": "markdown",
   "metadata": {},
   "source": [
    "Når vi skriver det ut så ser vi at float skrives med `2.` mens int skrives `2` uten punktum. "
   ]
  },
  {
   "cell_type": "markdown",
   "metadata": {},
   "source": [
    "### Matematikk med numpy "
   ]
  },
  {
   "cell_type": "markdown",
   "metadata": {},
   "source": [
    "Multipliser alle elementene i `mat2` med `2`. Tips: Ikke bruk løkker, du kan bruke `*` med numpy arrayer. "
   ]
  },
  {
   "cell_type": "code",
   "execution_count": null,
   "metadata": {},
   "outputs": [],
   "source": [
    "# 2 ganger mat2\n",
    "mat_2x2 = mat2*2\n",
    "print(mat_2x2)"
   ]
  },
  {
   "cell_type": "markdown",
   "metadata": {},
   "source": [
    "Regn ut summen av `mat1` og `mat2`. Tips: du kan bruke vanlig `+`. "
   ]
  },
  {
   "cell_type": "code",
   "execution_count": null,
   "metadata": {},
   "outputs": [],
   "source": [
    "# summen\n",
    "mat_sum = mat1+mat2\n",
    "print(mat_sum)"
   ]
  },
  {
   "cell_type": "markdown",
   "metadata": {},
   "source": [
    "Regn ut logaritmen av alle elementene i `mat2`. Tips: Bruk [`numpy.log`](https://numpy.org/doc/stable/reference/generated/numpy.log.html)."
   ]
  },
  {
   "cell_type": "code",
   "execution_count": null,
   "metadata": {},
   "outputs": [],
   "source": [
    "# logaritmen\n",
    "log_mat = np.log(mat2)\n",
    "print(log_mat)"
   ]
  },
  {
   "cell_type": "markdown",
   "metadata": {},
   "source": [
    "Regn ut maksimalverdien i `mat2`. Tips: Bruk [`numpy.max`](https://numpy.org/doc/stable/reference/generated/numpy.ndarray.max.html)."
   ]
  },
  {
   "cell_type": "code",
   "execution_count": null,
   "metadata": {},
   "outputs": [],
   "source": [
    "# maximum\n",
    "mat_max = np.max(mat2)\n",
    "print(mat_max)"
   ]
  },
  {
   "cell_type": "markdown",
   "metadata": {},
   "source": [
    "For hver kolonne i `mat2`, regn ut summen. Tips: Bruk [`numpy.sum`](https://numpy.org/doc/stable/reference/generated/numpy.ndarray.sum.html) med `axis`-argumentet."
   ]
  },
  {
   "cell_type": "code",
   "execution_count": null,
   "metadata": {},
   "outputs": [],
   "source": [
    "# summe per kolonne\n",
    "mat_sums = np.sum(mat2,axis=0)\n",
    "print(mat_sums)"
   ]
  },
  {
   "cell_type": "markdown",
   "metadata": {},
   "source": [
    "### Kombiner det du har lært\n",
    "\n",
    "Så lenge fikk du beskjed på hvert steg hva du skal gjøre og hva slags funksjon som du kan bruke. Nå skal vi prøve å kombinere de forskjellige ting du har lært. \n",
    "\n",
    "1. Lag en numpy-array `mat` som består av tre kolonner og 100 rader. Den første kolonnen skal inneholde jevnt fordelte tall fra 0 til 2. Den andre kolonnen skal inneholde uniformt fordelte tilfeldige tall mellom 0 og 5. Den tredje kolonnen skal inneholde et 2-tall hvis den andre kolonnen er større enn 4 og et 0-tall ellers. \n",
    "2. Skriv ut de første 10 radene av `mat`. \n",
    "3. Finn ut hvor mange av radene har en verdi i andre kolonnen som er større enn 4. \n",
    "4. Regn ut maximalverdien av den andre kolonnen. \n",
    "5. Regn ut summen av alle den andre kolonnen for alle rad som har den andre kolonnen større enn 4. \n",
    "6. Endre alle datapunkter som var større enn 4 til 4. Hvordan har resultatene av spørsmål 4 og 5 forandret seg? "
   ]
  },
  {
   "cell_type": "code",
   "execution_count": null,
   "metadata": {},
   "outputs": [],
   "source": [
    "#1\n",
    "zero_two = np.linspace ( 0,2, 100)\n",
    "zero_five = np.random.uniform( 0,5, 100)\n",
    "depends_col = np.where(zero_five > 4, 2, 0) \n",
    "\n",
    "mat = np.column_stack((zero_two, zero_five, depends_col))\n",
    "#print(mat)\n",
    "\n",
    "#2\n",
    "#print(mat[0:10])\n",
    "\n",
    "#3\n",
    "mer_enn_fire = np.where(zero_five > 4)\n",
    "print(np.shape(mer_enn_fire)[1])\n",
    "\n",
    "#4\n",
    "max_rad_to = np.max(zero_five)\n",
    "print(max_rad_to)\n",
    "\n",
    "#5 Regn ut summen av alle den andre kolonnen for alle rad som har den andre kolonnen større enn 4. \n",
    "mer_enn_fire = np.where(zero_five > 4)\n",
    "sum_larger_four = np.sum(mat[mer_enn_fire])\n",
    "print(sum_larger_four)\n",
    "\n",
    "#6 sjekk om denne er riktig også\n",
    "mat[:, 1] = np.where(mat[:, 1] > 4, 4, mat[:, 1]) \n",
    "#print(mat)\n",
    "\n"
   ]
  },
  {
   "cell_type": "code",
   "execution_count": null,
   "metadata": {},
   "outputs": [],
   "source": [
    "# din kode "
   ]
  },
  {
   "cell_type": "markdown",
   "metadata": {},
   "source": [
    "## Pandas\n",
    "\n",
    "Her har vi data om passasjerer på skipet Titanic og informasjon om hvorvidt de overlevde. Noen passasjergrupper hadde bedre sjanser for å overleve. I denne oppgaven skal du bruke passasjerdata for å se om du kan finne noen mønstre. Først importerer vi pandas pakken. "
   ]
  },
  {
   "cell_type": "code",
   "execution_count": null,
   "metadata": {},
   "outputs": [],
   "source": [
    "import pandas as pd"
   ]
  },
  {
   "cell_type": "markdown",
   "metadata": {},
   "source": [
    "Les inn datasettet titanic.csv i et pandas DataFrame `df`. Tips: Bruk [`pandas.read_csv`](https://pandas.pydata.org/docs/reference/api/pandas.read_csv.html). "
   ]
  },
  {
   "cell_type": "code",
   "execution_count": null,
   "metadata": {},
   "outputs": [],
   "source": [
    "# lese inn data\n",
    "df = pd.read_csv(\"data/titanic.csv\")"
   ]
  },
  {
   "cell_type": "markdown",
   "metadata": {},
   "source": [
    "Se på de første 10 radene av datasettet. Tips: Bruk [`pandas.DataFrame.head`](https://pandas.pydata.org/docs/reference/api/pandas.DataFrame.head.html). "
   ]
  },
  {
   "cell_type": "code",
   "execution_count": null,
   "metadata": {},
   "outputs": [],
   "source": [
    "# første 10 radene\n",
    "første_rad = df.head(10)\n",
    "print(første_rad)"
   ]
  },
  {
   "cell_type": "markdown",
   "metadata": {},
   "source": [
    "Beskriv alle kolonnene. For numeriske kolonner, vis i hvert fall gjennomsnitt, minimum, maximum og median. For kategoriske kolonner, vis antall unike verdier og den mest vanlige verdien. Tips: Bruk [`pandas.DataFrame.describe`](https://pandas.pydata.org/docs/reference/api/pandas.DataFrame.describe.html). "
   ]
  },
  {
   "cell_type": "code",
   "execution_count": null,
   "metadata": {},
   "outputs": [],
   "source": [
    "# data beskrivelse\n",
    "beskrivelse = df.describe(include=\"all\")\n",
    "beskrivelse"
   ]
  },
  {
   "cell_type": "markdown",
   "metadata": {},
   "source": [
    "Lag en ny `numpy` array med overlevelses-status (kolonnen `Survived`).  Tips: Bruk [`pandas.DataFrame.loc`](https://pandas.pydata.org/docs/reference/api/pandas.DataFrame.loc.html) og [`pandas.DataFrame.to_numpy`](https://pandas.pydata.org/docs/reference/api/pandas.DataFrame.to_numpy.html). "
   ]
  },
  {
   "cell_type": "code",
   "execution_count": null,
   "metadata": {},
   "outputs": [],
   "source": [
    "# lage overlevelses-variabel\n",
    "overlever_df = df.loc[:, 'Survived']\n",
    "overlever = overlever_df.to_numpy()\n",
    "print(overlever)"
   ]
  },
  {
   "cell_type": "markdown",
   "metadata": {},
   "source": [
    "Regn ut total andel av pasasjerer som overlevde. Tips: Bruk [`numpy.mean`](https://numpy.org/doc/stable/reference/generated/numpy.mean.html) eller [`pandas.DataFrame.mean`](https://pandas.pydata.org/docs/reference/api/pandas.DataFrame.mean.html). \n"
   ]
  },
  {
   "cell_type": "code",
   "execution_count": null,
   "metadata": {},
   "outputs": [],
   "source": [
    "# andel som overlevde\n",
    "andel_overlever = overlever.mean()\n",
    "print(andel_overlever) "
   ]
  },
  {
   "cell_type": "markdown",
   "metadata": {},
   "source": [
    "Regn ut proporsjonen av kvinner og menn som overlevde. Du kan bruke [`pandas.DataFrame.groupby`](https://pandas.pydata.org/docs/reference/api/pandas.DataFrame.groupby.html)."
   ]
  },
  {
   "cell_type": "code",
   "execution_count": null,
   "metadata": {},
   "outputs": [],
   "source": [
    "# overlevelse blant kvinner og menn\n",
    "kjonn_overlevelse = df.groupby(\"Sex\")[\"Survived\"].mean().to_frame()\n",
    "kjonn_overlevelse"
   ]
  },
  {
   "cell_type": "markdown",
   "metadata": {},
   "source": [
    "Regn ut proporsjonen som overlevde i hver klasse (`Pclass`). "
   ]
  },
  {
   "cell_type": "code",
   "execution_count": null,
   "metadata": {},
   "outputs": [],
   "source": [
    "# overlevelse per klasse\n",
    "klasse_overlevelse = df.groupby(\"Pclass\")[\"Survived\"].mean().to_frame()\n",
    "klasse_overlevelse"
   ]
  },
  {
   "cell_type": "markdown",
   "metadata": {},
   "source": [
    "Lag en ny variabel i `df` med aldersgrupper [0, 18), [18, 60) og [60, 120). Tips: Du kan bruke [`pandas.cut`](https://pandas.pydata.org/docs/reference/api/pandas.cut.html)."
   ]
  },
  {
   "cell_type": "code",
   "execution_count": null,
   "metadata": {},
   "outputs": [],
   "source": [
    "# aldersgrupper\n",
    "bins = [0,18,60,120]\n",
    "df.loc[:, 'AgeGroup'] = pd.cut(df[\"Age\"],bins, labels = [ \"[0, 18)\", \"[18, 60)\", \"[60, 120)\" ], right=False)\n",
    "print(df)"
   ]
  },
  {
   "cell_type": "markdown",
   "metadata": {},
   "source": [
    "Hvor mange passasjerer er i hver aldersgruppe? Tips: Du kan bruke [`pandas.DataFrame.value_counts`](https://pandas.pydata.org/docs/reference/api/pandas.DataFrame.value_counts.html). "
   ]
  },
  {
   "cell_type": "code",
   "execution_count": null,
   "metadata": {},
   "outputs": [],
   "source": [
    "# passasjerer per aldersgruppe\n",
    "passasjerer_per_aldersgruppe = df[\"AgeGroup\"].value_counts()\n",
    "\n",
    "passasjerer_per_aldersgruppe"
   ]
  },
  {
   "cell_type": "markdown",
   "metadata": {},
   "source": [
    "Regn ut proporsjonen som overlevde i hver aldersgruppe. "
   ]
  },
  {
   "cell_type": "code",
   "execution_count": null,
   "metadata": {},
   "outputs": [],
   "source": [
    "# overlevelse per aldersgruppe\n",
    "overlevelse_per_aldersgruppe = df.groupby(\"AgeGroup\")[\"Survived\"].mean().to_frame()"
   ]
  },
  {
   "cell_type": "markdown",
   "metadata": {},
   "source": [
    "Legg til dummy-variabler for hver alderskategori. Tips: Du kan bruke [`pandas.get_dummies`](https://pandas.pydata.org/docs/reference/api/pandas.get_dummies.html). "
   ]
  },
  {
   "cell_type": "code",
   "execution_count": null,
   "metadata": {},
   "outputs": [],
   "source": [
    "# alderskategori dummy variabler\n",
    "# Create dummies for AgeGroup\n",
    "age_dummies = pd.get_dummies(df['AgeGroup'], prefix='AgeGroup')\n",
    "df = pd.concat([df, age_dummies], axis=1)\n",
    "print(df.head())"
   ]
  },
  {
   "cell_type": "markdown",
   "metadata": {},
   "source": [
    "Regn ut proporsjonen som overlevde i og utenfor aldersgruppen [18, 60) for hver kjønn. "
   ]
  },
  {
   "cell_type": "code",
   "execution_count": null,
   "metadata": {},
   "outputs": [],
   "source": [
    "# andel som overlevde i og utenfor aldersgruppen [18, 60) for hver kjønn. \n",
    "\n",
    "# gender within age group [18, 60)\n",
    "inside_18_60 = df[df['AgeGroup_[18, 60)']].groupby('Sex')['Survived'].mean().to_frame()\n",
    "\n",
    "# gender outside age group [18, 60)\n",
    "outside_18_60 = df[~df['AgeGroup_[18, 60)']].groupby('Sex')['Survived'].mean().to_frame()\n",
    "\n",
    "\n",
    "overlevelse_kjonn_alder = pd.concat( [inside_18_60,outside_18_60])\n",
    "overlevelse_kjonn_alder"
   ]
  }
 ],
 "metadata": {
  "celltoolbar": "Tags",
  "kernelspec": {
   "display_name": "Python 3 (ipykernel)",
   "language": "python",
   "name": "python3"
  },
  "language_info": {
   "codemirror_mode": {
    "name": "ipython",
    "version": 3
   },
   "file_extension": ".py",
   "mimetype": "text/x-python",
   "name": "python",
   "nbconvert_exporter": "python",
   "pygments_lexer": "ipython3",
   "version": "3.10.12"
  }
 },
 "nbformat": 4,
 "nbformat_minor": 4
}
